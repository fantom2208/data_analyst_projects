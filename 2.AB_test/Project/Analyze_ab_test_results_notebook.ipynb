{
 "cells": [
  {
   "cell_type": "markdown",
   "metadata": {},
   "source": [
    "# Analyze A/B Test Results \n",
    "\n",
    "This project will assure you have mastered the subjects covered in the statistics lessons. We have organized the current notebook into the following sections: \n",
    "\n",
    "- [Introduction](#intro)\n",
    "- [Part I - Probability](#probability)\n",
    "- [Part II - A/B Test](#ab_test)\n",
    "- [Part III - Regression](#regression)\n",
    "- [Final Check](#finalcheck)\n",
    "- [Submission](#submission)\n",
    "\n",
    "Specific programming tasks are marked with a **ToDo** tag. \n",
    "\n",
    "<a id='intro'></a>\n",
    "## Introduction\n",
    "\n",
    "A/B tests are very commonly performed by data analysts and data scientists. For this project, you will be working to understand the results of an A/B test run by an e-commerce website.  Your goal is to work through this notebook to help the company understand if they should:\n",
    "- Implement the new webpage, \n",
    "- Keep the old webpage, or \n",
    "- Perhaps run the experiment longer to make their decision.\n",
    "\n",
    "Each **ToDo** task below has an associated quiz present in the classroom.  Though the classroom quizzes are **not necessary** to complete the project, they help ensure you are on the right track as you work through the project, and you can feel more confident in your final submission meeting the [rubric](https://review.udacity.com/#!/rubrics/1214/view) specification. \n",
    "\n",
    "<a id='probability'></a>\n",
    "## Part I - Probability\n",
    "\n",
    "To get started, let's import our libraries."
   ]
  },
  {
   "cell_type": "code",
   "execution_count": 1,
   "metadata": {},
   "outputs": [
    {
     "name": "stderr",
     "output_type": "stream",
     "text": [
      "/opt/conda/lib/python3.6/site-packages/statsmodels/compat/pandas.py:56: FutureWarning: The pandas.core.datetools module is deprecated and will be removed in a future version. Please use the pandas.tseries module instead.\n",
      "  from pandas.core import datetools\n"
     ]
    }
   ],
   "source": [
    "# import packages\n",
    "import pandas as pd\n",
    "import numpy as np\n",
    "import statsmodels.api as sm\n",
    "import random\n",
    "import matplotlib.pyplot as plt\n",
    "%matplotlib inline\n",
    "#We are setting the seed to assure you get the same answers on quizzes as we set up\n",
    "random.seed(42)"
   ]
  },
  {
   "cell_type": "markdown",
   "metadata": {},
   "source": [
    "### ToDo 1.1\n",
    "Now, read in the `ab_data.csv` data. Store it in `df`. Below is the description of the data, there are a total of 5 columns:\n",
    "\n",
    "<center>\n",
    "\n",
    "|Data columns|Purpose|Valid values|\n",
    "| ------------- |:-------------| -----:|\n",
    "|user_id|Unique ID|Int64 values|\n",
    "|timestamp|Time stamp when the user visited the webpage|-|\n",
    "|group|In the current A/B experiment, the users are categorized into two broad groups. <br>The `control` group users are expected to be served with `old_page`; and `treatment` group users are matched with the `new_page`. <br>However, **some inaccurate rows** are present in the initial data, such as a `control` group user is matched with a `new_page`. |`['control', 'treatment']`|\n",
    "|landing_page|It denotes whether the user visited the old or new webpage.|`['old_page', 'new_page']`|\n",
    "|converted|It denotes whether the user decided to pay for the company's product. Here, `1` means yes, the user bought the product.|`[0, 1]`|\n",
    "</center>\n",
    "\n",
    "**a.** Read in the dataset from the `ab_data.csv` file and take a look at the top few rows here:"
   ]
  },
  {
   "cell_type": "code",
   "execution_count": 2,
   "metadata": {},
   "outputs": [
    {
     "name": "stdout",
     "output_type": "stream",
     "text": [
      "   user_id                   timestamp      group landing_page  converted\n",
      "0   851104  2017-01-21 22:11:48.556739    control     old_page          0\n",
      "1   804228  2017-01-12 08:01:45.159739    control     old_page          0\n",
      "2   661590  2017-01-11 16:55:06.154213  treatment     new_page          0\n",
      "3   853541  2017-01-08 18:28:03.143765  treatment     new_page          0\n",
      "4   864975  2017-01-21 01:52:26.210827    control     old_page          1\n",
      "<class 'pandas.core.frame.DataFrame'>\n",
      "RangeIndex: 294478 entries, 0 to 294477\n",
      "Data columns (total 5 columns):\n",
      "user_id         294478 non-null int64\n",
      "timestamp       294478 non-null object\n",
      "group           294478 non-null object\n",
      "landing_page    294478 non-null object\n",
      "converted       294478 non-null int64\n",
      "dtypes: int64(2), object(3)\n",
      "memory usage: 11.2+ MB\n",
      "None\n"
     ]
    }
   ],
   "source": [
    "#read data and print heads and info\n",
    "df = pd.read_csv('ab_data.csv')\n",
    "print(df.head())\n",
    "print(df.info())"
   ]
  },
  {
   "cell_type": "markdown",
   "metadata": {},
   "source": [
    "**b.** Use the cell below to find the number of rows in the dataset."
   ]
  },
  {
   "cell_type": "code",
   "execution_count": 3,
   "metadata": {},
   "outputs": [
    {
     "name": "stdout",
     "output_type": "stream",
     "text": [
      "Number of rows in the dataset =  294478\n"
     ]
    }
   ],
   "source": [
    "total = df.shape[0]\n",
    "print('Number of rows in the dataset = ', total)"
   ]
  },
  {
   "cell_type": "markdown",
   "metadata": {},
   "source": [
    "**c.** The number of unique users in the dataset."
   ]
  },
  {
   "cell_type": "code",
   "execution_count": 4,
   "metadata": {},
   "outputs": [
    {
     "name": "stdout",
     "output_type": "stream",
     "text": [
      "Number of of unique users in the dataset =  290584\n"
     ]
    }
   ],
   "source": [
    "id_unq = df.user_id.nunique()\n",
    "print('Number of of unique users in the dataset = ', id_unq)"
   ]
  },
  {
   "cell_type": "code",
   "execution_count": 5,
   "metadata": {},
   "outputs": [
    {
     "name": "stdout",
     "output_type": "stream",
     "text": [
      "Number of of non-unique user rows in the dataset =  3894\n",
      "Percent of of non-unique user rows in the dataset =  0.013223398691922657\n"
     ]
    }
   ],
   "source": [
    "print('Number of of non-unique user rows in the dataset = ', total - id_unq)\n",
    "print('Percent of of non-unique user rows in the dataset = ', (total - id_unq)/total)"
   ]
  },
  {
   "cell_type": "markdown",
   "metadata": {
    "collapsed": true
   },
   "source": [
    "**d.** The proportion of users converted."
   ]
  },
  {
   "cell_type": "code",
   "execution_count": 6,
   "metadata": {},
   "outputs": [
    {
     "name": "stdout",
     "output_type": "stream",
     "text": [
      "The proportion of users converted =  0.119659193556\n"
     ]
    }
   ],
   "source": [
    "p_conv = df.converted.mean()\n",
    "print('The proportion of users converted = ', p_conv)"
   ]
  },
  {
   "cell_type": "markdown",
   "metadata": {
    "collapsed": true
   },
   "source": [
    "**e.** The number of times when the \"group\" is `treatment` but \"landing_page\" is not a `new_page`."
   ]
  },
  {
   "cell_type": "code",
   "execution_count": 7,
   "metadata": {},
   "outputs": [
    {
     "name": "stdout",
     "output_type": "stream",
     "text": [
      "Number of times when the group = treatment but landing_page != new_page \n",
      " 1965\n"
     ]
    }
   ],
   "source": [
    "trtmt_oldpage = df.query('group == \"treatment\" and landing_page == \"old_page\"').user_id.count()\n",
    "print('Number of times when the group = treatment but landing_page != new_page \\n', trtmt_oldpage)"
   ]
  },
  {
   "cell_type": "code",
   "execution_count": 8,
   "metadata": {},
   "outputs": [
    {
     "name": "stdout",
     "output_type": "stream",
     "text": [
      "Size of treatment group = 147276\n",
      "% of mistakes = 0.0133422960971\n"
     ]
    }
   ],
   "source": [
    "trtmt = df.query('group == \"treatment\"').user_id.count()\n",
    "print('Size of treatment group =', trtmt)\n",
    "print('% of mistakes =', trtmt_oldpage/trtmt)"
   ]
  },
  {
   "cell_type": "code",
   "execution_count": 9,
   "metadata": {},
   "outputs": [
    {
     "name": "stdout",
     "output_type": "stream",
     "text": [
      "Number of times when the group != treatment but landing_page = new_page \n",
      " 1928\n"
     ]
    }
   ],
   "source": [
    "ctrl_newpage = df.query('group == \"control\" and landing_page == \"new_page\"').user_id.count()\n",
    "print('Number of times when the group != treatment but landing_page = new_page \\n', ctrl_newpage)"
   ]
  },
  {
   "cell_type": "code",
   "execution_count": 10,
   "metadata": {},
   "outputs": [
    {
     "name": "stdout",
     "output_type": "stream",
     "text": [
      "Size of control group = 147202\n",
      "% of mistakes = 0.0130976481298\n"
     ]
    }
   ],
   "source": [
    "ctrl = df.query('group != \"treatment\"').user_id.count()\n",
    "print('Size of control group =', ctrl)\n",
    "print('% of mistakes =', ctrl_newpage/ctrl)"
   ]
  },
  {
   "cell_type": "code",
   "execution_count": 11,
   "metadata": {},
   "outputs": [
    {
     "name": "stdout",
     "output_type": "stream",
     "text": [
      "Total quantity of mismatches = 3893\n",
      "Total % of mistakes = 0.0132200028525\n"
     ]
    }
   ],
   "source": [
    "print('Total quantity of mismatches =', trtmt_oldpage +  ctrl_newpage)\n",
    "print('Total % of mistakes =', (trtmt_oldpage +  ctrl_newpage)/total)"
   ]
  },
  {
   "cell_type": "markdown",
   "metadata": {},
   "source": [
    "**f.** Do any of the rows have missing values?"
   ]
  },
  {
   "cell_type": "code",
   "execution_count": 12,
   "metadata": {},
   "outputs": [
    {
     "name": "stdout",
     "output_type": "stream",
     "text": [
      "Quantity of rows witn NULL values \n",
      " user_id         0\n",
      "timestamp       0\n",
      "group           0\n",
      "landing_page    0\n",
      "converted       0\n",
      "dtype: int64\n"
     ]
    }
   ],
   "source": [
    "null_row_q = df.isnull().sum()\n",
    "print ('Quantity of rows witn NULL values \\n', null_row_q)"
   ]
  },
  {
   "cell_type": "markdown",
   "metadata": {},
   "source": [
    "**Conclusion:** \n",
    "\n",
    "- overall amount of records is significant = 294478\n",
    "- dataframe does not contain missing value\n",
    "- 'timestamp' has 'object' type instead of 'datetime' (probably needs to be converted later)\n",
    "- total mismatches between 'group' and 'landing_page' is 3893 records, % of mismatches 1.3%\n",
    "\n",
    "Total % of mismatches is not significant and might be dropped with out big impact on curretnt test precision. <br>\n",
    "For future tests needs to make investigation about reasons of mismatches, to make test more accurate. <br>\n",
    "\n"
   ]
  },
  {
   "cell_type": "markdown",
   "metadata": {},
   "source": [
    "### ToDo 1.2  \n",
    "In a particular row, the **group** and **landing_page** columns should have either of the following acceptable values:\n",
    "\n",
    "|user_id| timestamp|group|landing_page|converted|\n",
    "|---|---|---|---|---|\n",
    "|XXXX|XXXX|`control`| `old_page`|X |\n",
    "|XXXX|XXXX|`treatment`|`new_page`|X |\n",
    "\n",
    "\n",
    "It means, the `control` group users should match with `old_page`; and `treatment` group users should matched with the `new_page`. \n",
    "\n",
    "However, for the rows where `treatment` does not match with `new_page` or `control` does not match with `old_page`, we cannot be sure if such rows truly received the new or old wepage.  \n",
    "\n",
    "**a.** Now use the answer to the quiz to create a new dataset that meets the specifications from the quiz.  Store your new dataframe in **df2**."
   ]
  },
  {
   "cell_type": "code",
   "execution_count": 13,
   "metadata": {},
   "outputs": [
    {
     "name": "stdout",
     "output_type": "stream",
     "text": [
      "Size of first part of dataframe = (145311, 5)\n",
      "Total size of dataframe =  (290585, 5)\n"
     ]
    }
   ],
   "source": [
    "# Remove the inaccurate rows, and store the result in a new dataframe df2\n",
    "#select all treatment and new page rows\n",
    "df2 = df.query('group == \"treatment\" and landing_page == \"new_page\"')\n",
    "print('Size of first part of dataframe =', df2.shape)\n",
    "\n",
    "#select all control and old page rows and append to df2\n",
    "df2 = df2.append(df.query('group == \"control\" and landing_page == \"old_page\"'))\n",
    "print('Total size of dataframe = ', df2.shape)"
   ]
  },
  {
   "cell_type": "code",
   "execution_count": 14,
   "metadata": {},
   "outputs": [
    {
     "data": {
      "text/plain": [
       "0"
      ]
     },
     "execution_count": 14,
     "metadata": {},
     "output_type": "execute_result"
    }
   ],
   "source": [
    "# Double Check all of the incorrect rows were removed from df2 - \n",
    "# Output of the statement below should be 0\n",
    "df2[((df2['group'] == 'treatment') == (df2['landing_page'] == 'new_page')) == False].shape[0]"
   ]
  },
  {
   "cell_type": "markdown",
   "metadata": {},
   "source": [
    "**Conclusion:**\n",
    "\n",
    " - new dataframe does not contain mismatches\n",
    " - total amount of records is 290585 (same as in section 'c')"
   ]
  },
  {
   "cell_type": "markdown",
   "metadata": {},
   "source": [
    "### ToDo 1.3  "
   ]
  },
  {
   "cell_type": "markdown",
   "metadata": {},
   "source": [
    "**a.** How many unique **user_id**s are in **df2**?"
   ]
  },
  {
   "cell_type": "code",
   "execution_count": 15,
   "metadata": {},
   "outputs": [
    {
     "name": "stdout",
     "output_type": "stream",
     "text": [
      "Number of rows in the dataset =  290585\n"
     ]
    }
   ],
   "source": [
    "total2 = df2.shape[0]\n",
    "print('Number of rows in the dataset = ', total2)"
   ]
  },
  {
   "cell_type": "code",
   "execution_count": 16,
   "metadata": {},
   "outputs": [
    {
     "name": "stdout",
     "output_type": "stream",
     "text": [
      "Number of of unique users in the dataset =  290584\n"
     ]
    }
   ],
   "source": [
    "id_unq2 = df2.user_id.nunique()\n",
    "print('Number of of unique users in the dataset = ', id_unq2)"
   ]
  },
  {
   "cell_type": "code",
   "execution_count": 17,
   "metadata": {},
   "outputs": [
    {
     "name": "stdout",
     "output_type": "stream",
     "text": [
      "Number of of non-unique user rows in the dataset =  1\n",
      "Percent of of non-unique user rows in the dataset =  3.441333861004525e-06\n"
     ]
    }
   ],
   "source": [
    "print('Number of of non-unique user rows in the dataset = ',  total2 - id_unq2)\n",
    "print('Percent of of non-unique user rows in the dataset = ', (total2 - id_unq2)/total2)"
   ]
  },
  {
   "cell_type": "markdown",
   "metadata": {
    "collapsed": true
   },
   "source": [
    "**b.** There is one **user_id** repeated in **df2**.  What is it?"
   ]
  },
  {
   "cell_type": "code",
   "execution_count": 18,
   "metadata": {},
   "outputs": [
    {
     "name": "stdout",
     "output_type": "stream",
     "text": [
      "user_id  witn duplicated records = [773192]\n"
     ]
    }
   ],
   "source": [
    "#select index of duplicated records in column 'user_id'\n",
    "user_id_dup_idx = df2.user_id.duplicated()\n",
    "# select duplicated 'user_id' list\n",
    "user_id_dup = df2[user_id_dup_idx].user_id.values\n",
    "print('user_id  witn duplicated records =', user_id_dup);"
   ]
  },
  {
   "cell_type": "markdown",
   "metadata": {},
   "source": [
    "**c.** Display the rows for the duplicate **user_id**? "
   ]
  },
  {
   "cell_type": "code",
   "execution_count": 19,
   "metadata": {},
   "outputs": [
    {
     "name": "stdout",
     "output_type": "stream",
     "text": [
      "Rows with duplicated user_id value: \n",
      "       user_id                   timestamp      group landing_page  converted\n",
      "1899   773192  2017-01-09 05:37:58.781806  treatment     new_page          0\n",
      "2893   773192  2017-01-14 02:55:59.590927  treatment     new_page          0\n"
     ]
    }
   ],
   "source": [
    "# get and print all data for duplicated 'user_is'\n",
    "print('Rows with duplicated user_id value: \\n', df2.query('user_id == @user_id_dup'))"
   ]
  },
  {
   "cell_type": "markdown",
   "metadata": {},
   "source": [
    "**d.** Remove **one** of the rows with a duplicate **user_id**, from the **df2** dataframe."
   ]
  },
  {
   "cell_type": "code",
   "execution_count": 20,
   "metadata": {},
   "outputs": [
    {
     "name": "stdout",
     "output_type": "stream",
     "text": [
      "Number of rows in the dataset =  290584\n",
      "Number of of non-unique user rows in the dataset =  0\n"
     ]
    }
   ],
   "source": [
    "# Get duplicated index and remove one of the rows with a duplicate user_id..\n",
    "drop_idx = df2[user_id_dup_idx].index\n",
    "df2.drop( index=drop_idx, inplace=True)\n",
    "\n",
    "# Check again if the row with a duplicate user_id is deleted or not\n",
    "total2 = df2.shape[0]\n",
    "id_unq2 = df2.user_id.nunique()\n",
    "print('Number of rows in the dataset = ', total2)\n",
    "print('Number of of non-unique user rows in the dataset = ',  total2 - id_unq2);"
   ]
  },
  {
   "cell_type": "code",
   "execution_count": 21,
   "metadata": {},
   "outputs": [],
   "source": [
    "# save clean data in file 'ab_data_clean.csv'\n",
    "df2.to_csv('ab_data_clean.csv', index=False)"
   ]
  },
  {
   "cell_type": "markdown",
   "metadata": {},
   "source": [
    "**Conclusion:**\n",
    "\n",
    "   - only one duplicate user ID found \n",
    "   - user_id = 773192\n",
    "   - group = treatment\n",
    "   - landing_page = new_page\n",
    "   - converted = False\n",
    "   - after duplicated droping final amount of records is 290584 (one less)"
   ]
  },
  {
   "cell_type": "markdown",
   "metadata": {},
   "source": [
    "### ToDo 1.4  \n",
    "**a.** What is the probability of an individual converting regardless of the page they receive?<br><br>\n",
    "\n"
   ]
  },
  {
   "cell_type": "code",
   "execution_count": 22,
   "metadata": {},
   "outputs": [
    {
     "name": "stdout",
     "output_type": "stream",
     "text": [
      "Data frame \"df2\" exist.\n"
     ]
    }
   ],
   "source": [
    "#check if dataframe 'df2' was loaded before\n",
    "if 'df2' not in globals():\n",
    "    # if start without cleaning - load ab data clean \n",
    "    df2 = pd.read_csv('ab_data_clean.csv')\n",
    "    total2 = df2.shape[0]\n",
    "    print(df2.head(3))\n",
    "else:\n",
    "    print('Data frame \"df2\" exist.')"
   ]
  },
  {
   "cell_type": "code",
   "execution_count": 23,
   "metadata": {},
   "outputs": [
    {
     "name": "stdout",
     "output_type": "stream",
     "text": [
      "Population probability of converted success 0.119597087245\n"
     ]
    }
   ],
   "source": [
    "p_pop = df2.converted.mean()\n",
    "print('Population probability of converted success', p_pop)"
   ]
  },
  {
   "cell_type": "markdown",
   "metadata": {},
   "source": [
    "**b.** Given that an individual was in the `control` group, what is the probability they converted?"
   ]
  },
  {
   "cell_type": "code",
   "execution_count": 24,
   "metadata": {},
   "outputs": [
    {
     "name": "stdout",
     "output_type": "stream",
     "text": [
      "Population probability of converted success 0.1203863045\n"
     ]
    }
   ],
   "source": [
    "p_cn = df2.query('group == \"control\"').converted.mean()\n",
    "print('Population probability of converted success', p_cn)"
   ]
  },
  {
   "cell_type": "markdown",
   "metadata": {},
   "source": [
    "**c.** Given that an individual was in the `treatment` group, what is the probability they converted?"
   ]
  },
  {
   "cell_type": "code",
   "execution_count": 25,
   "metadata": {},
   "outputs": [
    {
     "name": "stdout",
     "output_type": "stream",
     "text": [
      "Population probability of converted success 0.118808065515\n"
     ]
    }
   ],
   "source": [
    "p_tr = df2.query('group == \"treatment\"').converted.mean()\n",
    "print('Population probability of converted success', p_tr)"
   ]
  },
  {
   "cell_type": "markdown",
   "metadata": {},
   "source": [
    "Calculate the actual difference  (`obs_diff`) between the conversion rates for the two groups. You will need that later.  "
   ]
  },
  {
   "cell_type": "code",
   "execution_count": 26,
   "metadata": {},
   "outputs": [
    {
     "name": "stdout",
     "output_type": "stream",
     "text": [
      "Actual difference between the conversion rates for the two groups = -0.00157823898536\n",
      "% of difference between the conversion rates for the two groups = -0.013283938077\n"
     ]
    }
   ],
   "source": [
    "# Calculate the actual difference (obs_diff) between the conversion rates for the two groups.\n",
    "obs_diff = p_tr - p_cn\n",
    "print('Actual difference between the conversion rates for the two groups =', obs_diff)\n",
    "print('% of difference between the conversion rates for the two groups =', obs_diff/p_tr)"
   ]
  },
  {
   "cell_type": "markdown",
   "metadata": {},
   "source": [
    "**d.** What is the probability that an individual received the new page?"
   ]
  },
  {
   "cell_type": "code",
   "execution_count": 27,
   "metadata": {},
   "outputs": [
    {
     "name": "stdout",
     "output_type": "stream",
     "text": [
      "Probability that an individual received the new page =  0.500061944223\n"
     ]
    }
   ],
   "source": [
    "p_new = df2.query('landing_page  == \"new_page\"').landing_page.count()/total2\n",
    "print('Probability that an individual received the new page = ',p_new)"
   ]
  },
  {
   "cell_type": "markdown",
   "metadata": {},
   "source": [
    "**e.** Consider your results from parts (a) through (d) above, and explain below whether the new `treatment` group users lead to more conversions."
   ]
  },
  {
   "cell_type": "markdown",
   "metadata": {},
   "source": [
    "**Conclusion:**\n",
    "    \n",
    "   - avarage probability of of conversions success is not so big 11.96%\n",
    "   - users from from 'treatment' group give less conversions success over 'control' group\n",
    "   - difference is 1,33% and looks like not so significant"
   ]
  },
  {
   "cell_type": "markdown",
   "metadata": {},
   "source": [
    "<a id='ab_test'></a>\n",
    "## Part II - A/B Test\n",
    "\n",
    "Since a timestamp is associated with each event, you could run a hypothesis test continuously as long as you observe the events. \n",
    "\n",
    "However, then the hard questions would be: \n",
    "- Do you stop as soon as one page is considered significantly better than another or does it need to happen consistently for a certain amount of time?  \n",
    "- How long do you run to render a decision that neither page is better than another?  \n",
    "\n",
    "These questions are the difficult parts associated with A/B tests in general.  \n",
    "\n",
    "\n",
    "### ToDo 2.1\n",
    "For now, consider you need to make the decision just based on all the data provided.  \n",
    "\n",
    "Recall that you just calculated that the \"converted\" probability (or rate) for the old page is *slightly* higher than that of the new page (ToDo 1.4.c). \n",
    "\n",
    "If you want to assume that the old page is better unless the new page proves to be definitely better at a Type I error rate of 5%, what should be your null and alternative hypotheses (**$H_0$** and **$H_1$**)?  \n",
    "\n",
    "You can state your hypothesis in terms of words or in terms of **$p_{old}$** and **$p_{new}$**, which are the \"converted\" probability (or rate) for the old and new pages respectively."
   ]
  },
  {
   "cell_type": "markdown",
   "metadata": {},
   "source": [
    "$$H_0: p_{new} - p_{old} \\leq 0$$\n",
    "\n",
    "$$H_1: p_{new} - p_{old} > 0 $$"
   ]
  },
  {
   "cell_type": "markdown",
   "metadata": {},
   "source": [
    "### ToDo 2.2 - Null Hypothesis $H_0$ Testing\n",
    "Under the null hypothesis $H_0$, assume that $p_{new}$ and $p_{old}$ are equal. Furthermore, assume that $p_{new}$ and $p_{old}$ both are equal to the **converted** success rate in the `df2` data regardless of the page. So, our assumption is: <br><br>\n",
    "<center>\n",
    "$p_{new}$ = $p_{old}$ = $p_{population}$\n",
    "</center>\n",
    "\n",
    "In this section, you will: \n",
    "\n",
    "- Simulate (bootstrap) sample data set for both groups, and compute the  \"converted\" probability $p$ for those samples. \n",
    "\n",
    "\n",
    "- Use a sample size for each group equal to the ones in the `df2` data.\n",
    "\n",
    "\n",
    "- Compute the difference in the \"converted\" probability for the two samples above. \n",
    "\n",
    "\n",
    "- Perform the sampling distribution for the \"difference in the converted probability\" between the two simulated-samples over 10,000 iterations; and calculate an estimate. "
   ]
  },
  {
   "cell_type": "code",
   "execution_count": 28,
   "metadata": {},
   "outputs": [
    {
     "name": "stdout",
     "output_type": "stream",
     "text": [
      "Population probability of converted success = 0.119597087245\n"
     ]
    }
   ],
   "source": [
    "p_pop = df2.converted.mean()\n",
    "print('Population probability of converted success =', p_pop)"
   ]
  },
  {
   "cell_type": "markdown",
   "metadata": {},
   "source": [
    "**a.** What is the **conversion rate** for $p_{new}$ under the null hypothesis? "
   ]
  },
  {
   "cell_type": "code",
   "execution_count": 29,
   "metadata": {},
   "outputs": [
    {
     "name": "stdout",
     "output_type": "stream",
     "text": [
      "Conversion rate for  𝑝_𝑛𝑒𝑤  under the null hypothesis = 0.119597087245\n"
     ]
    }
   ],
   "source": [
    "p_new = p_pop\n",
    "print('Conversion rate for  𝑝_𝑛𝑒𝑤  under the null hypothesis =', p_new)"
   ]
  },
  {
   "cell_type": "markdown",
   "metadata": {},
   "source": [
    "**b.** What is the **conversion rate** for $p_{old}$ under the null hypothesis? "
   ]
  },
  {
   "cell_type": "code",
   "execution_count": 30,
   "metadata": {},
   "outputs": [
    {
     "name": "stdout",
     "output_type": "stream",
     "text": [
      "Conversion rate for  𝑝_𝑜𝑙𝑑  under the null hypothesis =  0.119597087245\n"
     ]
    }
   ],
   "source": [
    "p_old = p_pop\n",
    "print('Conversion rate for  𝑝_𝑜𝑙𝑑  under the null hypothesis = ', p_old)"
   ]
  },
  {
   "cell_type": "markdown",
   "metadata": {},
   "source": [
    "**c.** What is $n_{new}$, the number of individuals in the treatment group?\n"
   ]
  },
  {
   "cell_type": "code",
   "execution_count": 31,
   "metadata": {},
   "outputs": [
    {
     "name": "stdout",
     "output_type": "stream",
     "text": [
      "Number of individuals in the treatment group =  145310\n"
     ]
    }
   ],
   "source": [
    "df_tr = df2.query('landing_page  == \"new_page\"')\n",
    "n_new = df_tr.shape[0]\n",
    "print('Number of individuals in the treatment group = ', n_new)"
   ]
  },
  {
   "cell_type": "markdown",
   "metadata": {},
   "source": [
    "**d.** What is $n_{old}$, the number of individuals in the control group?"
   ]
  },
  {
   "cell_type": "code",
   "execution_count": 32,
   "metadata": {},
   "outputs": [
    {
     "name": "stdout",
     "output_type": "stream",
     "text": [
      "Number of individuals in the control group =  145274\n"
     ]
    }
   ],
   "source": [
    "df_cn = df2.query('landing_page  == \"old_page\"')\n",
    "n_old = df_cn.shape[0]\n",
    "print('Number of individuals in the control group = ', n_old)"
   ]
  },
  {
   "cell_type": "markdown",
   "metadata": {},
   "source": [
    "**e. Simulate Sample for the `treatment` Group**<br> \n",
    "Simulate $n_{new}$ transactions with a conversion rate of $p_{new}$ under the null hypothesis.  <br>\n",
    "Use `numpy.random.choice()` method to randomly generate $n_{new}$ number of values. <br>\n",
    "Store these $n_{new}$ 1's and 0's in the `new_page_converted` numpy array.\n"
   ]
  },
  {
   "cell_type": "code",
   "execution_count": 33,
   "metadata": {},
   "outputs": [],
   "source": [
    "# Simulate a Sample for the treatment Group\n",
    "param_p_new = [1-p_new, p_new]\n",
    "new_page_converted = np.random.choice(2, size=n_new, p=param_p_new)"
   ]
  },
  {
   "cell_type": "markdown",
   "metadata": {},
   "source": [
    "**f. Simulate Sample for the `control` Group** <br>\n",
    "Simulate $n_{old}$ transactions with a conversion rate of $p_{old}$ under the null hypothesis. <br> Store these $n_{old}$ 1's and 0's in the `old_page_converted` numpy array."
   ]
  },
  {
   "cell_type": "code",
   "execution_count": 34,
   "metadata": {},
   "outputs": [],
   "source": [
    "# Simulate a Sample for the control Group\n",
    "param_p_old = [1-p_old, p_old]\n",
    "old_page_converted = np.random.choice(2, size=n_old, p=param_p_old)"
   ]
  },
  {
   "cell_type": "markdown",
   "metadata": {},
   "source": [
    "**g.** Find the difference in the \"converted\" probability $(p{'}_{new}$ - $p{'}_{old})$ for your simulated samples from the parts (e) and (f) above. "
   ]
  },
  {
   "cell_type": "code",
   "execution_count": 35,
   "metadata": {},
   "outputs": [
    {
     "name": "stdout",
     "output_type": "stream",
     "text": [
      "Estimated converted probability for new page = 0.119496249398\n",
      "Estimated converted probability for old page = 0.120331236147\n",
      "Estimated difference in converted probabilities = -0.000834986749028\n"
     ]
    }
   ],
   "source": [
    "est_p_new = new_page_converted.mean()\n",
    "print('Estimated converted probability for new page =', est_p_new)\n",
    "\n",
    "est_p_old = old_page_converted.mean()\n",
    "print('Estimated converted probability for old page =', est_p_old)\n",
    "\n",
    "est_dif = est_p_new - est_p_old\n",
    "print('Estimated difference in converted probabilities =', est_dif)"
   ]
  },
  {
   "cell_type": "markdown",
   "metadata": {},
   "source": [
    "\n",
    "**h. Sampling distribution** <br>\n",
    "Re-create `new_page_converted` and `old_page_converted` and find the $(p{'}_{new}$ - $p{'}_{old})$ value 10,000 times using the same simulation process you used in parts (a) through (g) above. \n",
    "\n",
    "<br>\n",
    "Store all  $(p{'}_{new}$ - $p{'}_{old})$  values in a NumPy array called `p_diffs`."
   ]
  },
  {
   "cell_type": "code",
   "execution_count": 36,
   "metadata": {},
   "outputs": [],
   "source": [
    "# Sampling distribution through 'for'\n",
    "#bs_p_new = []\n",
    "#bs_p_old = []\n",
    "#for n in range(smpl_size):\n",
    "#    bs_new_page_converted = np.random.choice(2, size=n_new, p=param_p_new)\n",
    "#    bs_old_page_converted = np.random.choice(2, size=n_old, p=param_p_old)\n",
    "#    bs_p_new = np.append(bs_p_new, bs_new_page_converted.mean())\n",
    "#    bs_p_old = np.append(bs_p_old, bs_old_page_converted.mean())\n",
    "\n",
    "# more faster variant\n",
    "new_page_converted = np.random.binomial(n_new, p_new, 10000)/n_new\n",
    "old_page_converted = np.random.binomial(n_old, p_old, 10000)/n_old\n",
    "\n",
    "p_diffs =  new_page_converted - old_page_converted    "
   ]
  },
  {
   "cell_type": "markdown",
   "metadata": {},
   "source": [
    "**i. Histogram**<br> \n",
    "Plot a histogram of the **p_diffs**.  Does this plot look like what you expected?  Use the matching problem in the classroom to assure you fully understand what was computed here.<br>\n",
    "Also, use `plt.axvline()` method to mark the actual difference observed  in the `df2` data (recall `obs_diff`), in the chart.  "
   ]
  },
  {
   "cell_type": "code",
   "execution_count": 37,
   "metadata": {},
   "outputs": [
    {
     "data": {
      "text/plain": [
       "Text(0,0.5,'Amount of cases')"
      ]
     },
     "execution_count": 37,
     "metadata": {},
     "output_type": "execute_result"
    },
    {
     "data": {
      "image/png": "[encoded data removed]",
      "text/plain": [
       "<matplotlib.figure.Figure at 0x7fd750b6d6a0>"
      ]
     },
     "metadata": {
      "needs_background": "light"
     },
     "output_type": "display_data"
    }
   ],
   "source": [
    "plt.hist(p_diffs);\n",
    "# one side test: left-tailed\n",
    "plt.axvline(x=obs_diff, color='r');\n",
    "plt.title('Simulation NULL hypothesys')\n",
    "plt.xlabel('Simulated difference in \"converted\" probabilities')\n",
    "plt.ylabel('Amount of cases')"
   ]
  },
  {
   "cell_type": "markdown",
   "metadata": {},
   "source": [
    "**j.** What proportion of the **p_diffs** are greater than the actual difference observed in the `df2` data?"
   ]
  },
  {
   "cell_type": "code",
   "execution_count": 38,
   "metadata": {},
   "outputs": [
    {
     "name": "stdout",
     "output_type": "stream",
     "text": [
      "Proportion of the p_diffs are greater than the actual difference = 0.9066\n"
     ]
    }
   ],
   "source": [
    "#calculate proportion of the p_diffs are greater than the actual difference\n",
    "#delta = np.abs(obs_diff)\n",
    "#p_val = (p_diffs > delta).mean() + (p_diffs < -delta).mean()\n",
    "\n",
    "# one side test: left-tailed\n",
    "p_val = (p_diffs > obs_diff).mean() \n",
    "print('Proportion of the p_diffs are greater than the actual difference =', p_val)"
   ]
  },
  {
   "cell_type": "markdown",
   "metadata": {},
   "source": [
    "**k.** Please explain in words what you have just computed in part **j** above.  \n",
    " - What is this value called in scientific studies?  \n",
    " - What does this value signify in terms of whether or not there is a difference between the new and old pages? \n",
    " - Compare the value above with the \"Type I error rate (0.05)\". "
   ]
  },
  {
   "cell_type": "markdown",
   "metadata": {},
   "source": [
    "**Conclusion:**\n",
    "\n",
    "1. We did simulation of NULL hypothesys $H_0: p_{new}-p_{old} \\leq 0$ <br>\n",
    "2. Matched with real difference value obs diff <br>\n",
    "3. Take mean for all values more than obs_diff to test $H_0$ <br>\n",
    "4. Result is probability of null hypothesys <br>\n",
    "5. As soon as p_val >> 'type I error rate' we definitevly fail to reject $H_0$ hypothesys <br>\n",
    "It means that $p_{new} \\leq p_{old}$."
   ]
  },
  {
   "cell_type": "markdown",
   "metadata": {},
   "source": [
    "\n",
    "\n",
    "**l. Using Built-in Methods for Hypothesis Testing**<br>\n",
    "We could also use a built-in to achieve similar results.  Though using the built-in might be easier to code, the above portions are a walkthrough of the ideas that are critical to correctly thinking about statistical significance. \n",
    "\n",
    "Fill in the statements below to calculate the:\n",
    "- `convert_old`: number of conversions with the old_page\n",
    "- `convert_new`: number of conversions with the new_page\n",
    "- `n_old`: number of individuals who were shown the old_page\n",
    "- `n_new`: number of individuals who were shown the new_page\n"
   ]
  },
  {
   "cell_type": "code",
   "execution_count": 39,
   "metadata": {},
   "outputs": [
    {
     "name": "stdout",
     "output_type": "stream",
     "text": [
      "Data frame \"df2\" exist.\n"
     ]
    }
   ],
   "source": [
    "#check if dataframe 'df2' was loaded before\n",
    "if 'df2' not in globals():\n",
    "    # if start without cleaning - load ab data clean \n",
    "    df2 = pd.read_csv('ab_data_clean.csv')\n",
    "    total2 = df2.shape[0]\n",
    "    print(df2.head(3))\n",
    "    #set means for NULL hypothesys \n",
    "    p_pop = df2.converted.mean()\n",
    "    p_old = p_pop\n",
    "    p_new = p_pop    \n",
    "else:\n",
    "    print('Data frame \"df2\" exist.')"
   ]
  },
  {
   "cell_type": "code",
   "execution_count": 40,
   "metadata": {},
   "outputs": [
    {
     "name": "stdout",
     "output_type": "stream",
     "text": [
      "Number of conversions with the old_page =  17489\n",
      "Number of conversions with the new_page =  17264\n",
      "Number of individuals who were shown the old_page =  145274\n",
      "Number of individuals who were shown the new_page =  145310\n"
     ]
    }
   ],
   "source": [
    "# number of conversions with the old_page\n",
    "convert_old = df2.query('landing_page  == \"old_page\"').converted.sum()\n",
    "print('Number of conversions with the old_page = ', convert_old)\n",
    "\n",
    "# number of conversions with the new_page\n",
    "convert_new = df2.query('landing_page  == \"new_page\"').converted.sum()\n",
    "print('Number of conversions with the new_page = ', convert_new)\n",
    "\n",
    "# number of individuals who were shown the old_page\n",
    "n_old = df2.query('group == \"control\"').user_id.count()\n",
    "print('Number of individuals who were shown the old_page = ', n_old)\n",
    "\n",
    "# number of individuals who received new_page\n",
    "n_new = df2.query('group == \"treatment\"').user_id.count()\n",
    "print('Number of individuals who were shown the new_page = ', n_new)"
   ]
  },
  {
   "cell_type": "markdown",
   "metadata": {},
   "source": [
    "**m.** Now use `sm.stats.proportions_ztest()` to compute your test statistic and p-value. \n",
    "\n",
    "The syntax is: \n",
    "```bash\n",
    "proportions_ztest(count_array, nobs_array, alternative='larger')\n",
    "```\n",
    "where, \n",
    "- `count_array` = represents the number of \"converted\" for each group\n",
    "- `nobs_array` = represents the total number of observations (rows) in each group\n",
    "- `alternative` = choose one of the values from `[‘two-sided’, ‘smaller’, ‘larger’]` depending upon two-tailed, left-tailed, or right-tailed respectively. \n",
    "The built-in function above will return the z_score, p_value. \n",
    "\n",
    "---\n",
    "### About the two-sample z-test\n",
    "Recall that you have plotted a distribution `p_diffs` representing the\n",
    "difference in the \"converted\" probability  $(p{'}_{new}-p{'}_{old})$  for your two simulated samples 10,000 times. \n",
    "\n",
    "Another way for comparing the mean of two independent and normal distribution is a **two-sample z-test**. You can perform the Z-test to calculate the Z_score, as shown in the equation below:\n",
    "\n",
    "$$\n",
    "Z_{score} = \\frac{ (p{'}_{new}-p{'}_{old}) - (p_{new}  -  p_{old})}{ \\sqrt{ \\frac{\\sigma^{2}_{new} }{n_{new}} + \\frac{\\sigma^{2}_{old} }{n_{old}}  } }\n",
    "$$\n",
    "\n",
    "where,\n",
    "- $p{'}$ is the \"converted\" success rate in the sample\n",
    "- $p_{new}$ and $p_{old}$ are the \"converted\" success rate for the two groups in the population. \n",
    "- $\\sigma_{new}$ and $\\sigma_{new}$ are the standard deviation for the two groups in the population. \n",
    "- $n_{new}$ and $n_{old}$ represent the size of the two groups or samples (it's same in our case)\n",
    "\n",
    "\n",
    "Next step is to make a decision to reject or fail to reject the null hypothesis based on comparing these two values: \n",
    "- $Z_{score}$\n",
    "- $Z_{\\alpha}$ or $Z_{0.05}$, also known as critical value at 95% confidence interval.  $Z_{0.05}$ is 1.645 for one-tailed tests,  and 1.960 for two-tailed test. You can determine the $Z_{\\alpha}$ from the z-table manually. \n",
    "\n",
    "Decide if your hypothesis is either a two-tailed, left-tailed, or right-tailed test. Accordingly, reject OR fail to reject the  null based on the comparison between $Z_{score}$ and $Z_{\\alpha}$. We determine whether or not the $Z_{score}$ lies in the \"rejection region\" in the distribution. In other words, a \"rejection region\" is an interval where the null hypothesis is rejected iff the $Z_{score}$ lies in that region.\n"
   ]
  },
  {
   "cell_type": "code",
   "execution_count": 41,
   "metadata": {},
   "outputs": [
    {
     "name": "stdout",
     "output_type": "stream",
     "text": [
      "-1.31092419842 0.905058312759\n"
     ]
    }
   ],
   "source": [
    "import statsmodels.api as sm\n",
    "# ToDo: Complete the sm.stats.proportions_ztest() method arguments\n",
    "cnt_arr = [convert_new, convert_old]\n",
    "nob_arr = [n_new, n_old,]\n",
    "mean_val_dif = p_new - p_old\n",
    "\n",
    "z_score, p_value = sm.stats.proportions_ztest(cnt_arr, nob_arr, value = mean_val_dif, alternative='larger')\n",
    "print(z_score, p_value)"
   ]
  },
  {
   "cell_type": "markdown",
   "metadata": {},
   "source": [
    "**n.** What do the z-score and p-value you computed in the previous question mean for the conversion rates of the old and new pages?  Do they agree with the findings in parts **j.** and **k.**?<br><br>"
   ]
  },
  {
   "cell_type": "markdown",
   "metadata": {},
   "source": [
    "**Conclusion:**\n",
    "\n",
    "   - 'value' parameter for 2 samples test calculated according to $H_0: p_{new}-p_{old} = 0$\n",
    "   - 'prop_var' parameter by defalt - use estimation of variance of the proportion \n",
    "\n",
    "We got p-value similar to value in part j and much more grater than $\\alpha = 0.05$ <br>\n",
    "Also z-score = -1.31 is higher than $Z_{\\alpha}$ = -1.645 <br>\n",
    "As a result we fail to reject $H_0$ <br>"
   ]
  },
  {
   "cell_type": "markdown",
   "metadata": {},
   "source": [
    "<a id='regression'></a>\n",
    "### Part III - A regression approach\n",
    "\n",
    "### ToDo 3.1 \n",
    "In this final part, you will see that the result you achieved in the A/B test in Part II above can also be achieved by performing regression.<br>\n",
    "**a.** Since each row in the `df2` data is either a conversion or no conversion, what type of regression should you be performing in this case?"
   ]
  },
  {
   "cell_type": "markdown",
   "metadata": {},
   "source": [
    "**Answer:**\n",
    "\n",
    "As soon as we want to predicts categorical responses (converted or not) and there are only two possible outcomes we will use Logistic regression"
   ]
  },
  {
   "cell_type": "code",
   "execution_count": 42,
   "metadata": {},
   "outputs": [
    {
     "name": "stdout",
     "output_type": "stream",
     "text": [
      "Data frame \"df2\" exist.\n"
     ]
    }
   ],
   "source": [
    "#check if dataframe 'df2' was loaded before\n",
    "if 'df2' not in globals():\n",
    "    # if start without cleaning - load ab data clean \n",
    "    df2 = pd.read_csv('ab_data_clean.csv')\n",
    "    total2 = df2.shape[0]\n",
    "    print(df2.head(3))\n",
    "else:\n",
    "    print('Data frame \"df2\" exist.')"
   ]
  },
  {
   "cell_type": "markdown",
   "metadata": {},
   "source": [
    "**b.** The goal is to use **statsmodels** library to fit the regression model you specified in part **a.** above to see if there is a significant difference in conversion based on the page-type a customer receives. However, you first need to create the following two columns in the `df2` dataframe:\n",
    " 1. `intercept` - It should be `1` in the entire column. \n",
    " 2. `ab_page` - It's a dummy variable column, having a value `1` when an individual receives the **treatment**, otherwise `0`.  "
   ]
  },
  {
   "cell_type": "code",
   "execution_count": 43,
   "metadata": {},
   "outputs": [
    {
     "name": "stdout",
     "output_type": "stream",
     "text": [
      "   control  treatment\n",
      "2        0          1\n",
      "3        0          1\n",
      "6        0          1\n",
      "8        0          1\n",
      "9        0          1\n"
     ]
    }
   ],
   "source": [
    "# create dummy table for 'group' column\n",
    "df_group = pd.get_dummies(df2['group'])\n",
    "print(df_group.head(5))"
   ]
  },
  {
   "cell_type": "code",
   "execution_count": 44,
   "metadata": {},
   "outputs": [
    {
     "name": "stdout",
     "output_type": "stream",
     "text": [
      "   user_id                   timestamp      group landing_page  converted  \\\n",
      "2   661590  2017-01-11 16:55:06.154213  treatment     new_page          0   \n",
      "3   853541  2017-01-08 18:28:03.143765  treatment     new_page          0   \n",
      "6   679687  2017-01-19 03:26:46.940749  treatment     new_page          1   \n",
      "\n",
      "   ab_page  intercept  \n",
      "2        1          1  \n",
      "3        1          1  \n",
      "6        1          1  \n"
     ]
    }
   ],
   "source": [
    "#copy dataframe to separate table for regression\n",
    "df_reg = df2.copy(deep=True)\n",
    "\n",
    "#add dummy variable 'ab_page' to 'df_reg' \n",
    "#column 'treatment' from 'df_group'\n",
    "df_reg['ab_page'] = df_group['treatment']\n",
    "#df_reg['ab_page'] = df_group['control']\n",
    "\n",
    "#add 'intercept' column\n",
    "df_reg['intercept'] = 1\n",
    "\n",
    "print(df_reg.head(3))"
   ]
  },
  {
   "cell_type": "markdown",
   "metadata": {},
   "source": [
    "**c.** Use **statsmodels** to instantiate your regression model on the two columns you created in part (b). above, then fit the model to predict whether or not an individual converts. \n"
   ]
  },
  {
   "cell_type": "code",
   "execution_count": 45,
   "metadata": {},
   "outputs": [
    {
     "name": "stdout",
     "output_type": "stream",
     "text": [
      "Optimization terminated successfully.\n",
      "         Current function value: 0.366118\n",
      "         Iterations 6\n"
     ]
    }
   ],
   "source": [
    "#create matrix 'X'\n",
    "X_col = df_reg[['intercept', 'ab_page']]\n",
    "y_col = df_reg['converted']\n",
    "\n",
    "#create logistic reression model\n",
    "logit_mod = sm.Logit(y_col, X_col)\n",
    "\n",
    "#fit the model\n",
    "results = logit_mod.fit()"
   ]
  },
  {
   "cell_type": "markdown",
   "metadata": {},
   "source": [
    "**d.** Provide the summary of your model below, and use it as necessary to answer the following questions."
   ]
  },
  {
   "cell_type": "code",
   "execution_count": 46,
   "metadata": {},
   "outputs": [
    {
     "name": "stdout",
     "output_type": "stream",
     "text": [
      "Print results:\n",
      "                           Results: Logit\n",
      "==================================================================\n",
      "Model:              Logit            No. Iterations:   6.0000     \n",
      "Dependent Variable: converted        Pseudo R-squared: 0.000      \n",
      "Date:               2022-01-08 16:15 AIC:              212780.3502\n",
      "No. Observations:   290584           BIC:              212801.5095\n",
      "Df Model:           1                Log-Likelihood:   -1.0639e+05\n",
      "Df Residuals:       290582           LL-Null:          -1.0639e+05\n",
      "Converged:          1.0000           Scale:            1.0000     \n",
      "-------------------------------------------------------------------\n",
      "              Coef.   Std.Err.      z      P>|z|    [0.025   0.975]\n",
      "-------------------------------------------------------------------\n",
      "intercept    -1.9888    0.0081  -246.6690  0.0000  -2.0046  -1.9730\n",
      "ab_page      -0.0150    0.0114    -1.3109  0.1899  -0.0374   0.0074\n",
      "==================================================================\n",
      "\n",
      "Values for params:\n",
      " intercept    0.136863\n",
      "ab_page      0.985123\n",
      "dtype: float64\n"
     ]
    }
   ],
   "source": [
    "#get summary statistics\n",
    "print('Print results:\\n', results.summary2())\n",
    "print('Values for params:\\n', np.exp(results.params))"
   ]
  },
  {
   "cell_type": "markdown",
   "metadata": {},
   "source": [
    "**e.** What is the p-value associated with **ab_page**? Why does it differ from the value you found in **Part II**?<br>"
   ]
  },
  {
   "cell_type": "markdown",
   "metadata": {},
   "source": [
    "**Conclusion:**\n",
    "\n",
    "Baseline for calulation is control group (dropped column). <br>\n",
    "In that case we could say that null and alternative hypothesys become oposite with two-sided intervals. <br>\n",
    "By using regression model we recieved following results for 'treatment' group:\n",
    "   - p-value =  0.1899 (different from section 'm' and 'j' because of oposite hypothesys and two-sided intervals)\n",
    "   - z-score = -1.3109 (same as in section 'm')\n",
    "    \n",
    "Calculated slope = exp(ab_page) = 0.985123 less than 1. It means that treatment group \"converted\" worse than baseline control group <br>\n",
    "Based on p-value > 0.05, z-score > $Z_{\\alpha} = -1.9$ and slope < 1 we fail to reject initial $H_0$ hypothesys  from section ToDo 2.1"
   ]
  },
  {
   "cell_type": "markdown",
   "metadata": {},
   "source": [
    "**f.** Now, you are considering other things that might influence whether or not an individual converts.  Discuss why it is a good idea to consider other factors to add into your regression model.  Are there any disadvantages to adding additional terms into your regression model?"
   ]
  },
  {
   "cell_type": "markdown",
   "metadata": {},
   "source": [
    "**Answer:**<br>\n",
    "In general it's good to add additional factors (age, social group, countries) into regression models to make analysys more detailed and aavoid potential Simpson's paradox. <br>\n",
    "Consequences od adding other factors are:\n",
    " - more complecated analysys\n",
    " - potential multicollinearity between factors "
   ]
  },
  {
   "cell_type": "markdown",
   "metadata": {},
   "source": [
    "**g. Adding countries**<br> \n",
    "Now along with testing if the conversion rate changes for different pages, also add an effect based on which country a user lives in. \n",
    "\n",
    "1. You will need to read in the **countries.csv** dataset and merge together your `df2` datasets on the appropriate rows. You call the resulting dataframe `df_merged`. \n",
    "\n",
    "2. Does it appear that country had an impact on conversion?  To answer this question, consider the three unique values, `['UK', 'US', 'CA']`, in the `country` column. Create dummy variables for these country columns. \n",
    "\n",
    " Provide the statistical output as well as a written response to answer this question."
   ]
  },
  {
   "cell_type": "code",
   "execution_count": 47,
   "metadata": {},
   "outputs": [
    {
     "name": "stdout",
     "output_type": "stream",
     "text": [
      "   user_id country\n",
      "0   834778      UK\n",
      "1   928468      US\n",
      "2   822059      UK\n",
      "3   711597      UK\n",
      "4   710616      UK\n",
      "<class 'pandas.core.frame.DataFrame'>\n",
      "RangeIndex: 290584 entries, 0 to 290583\n",
      "Data columns (total 2 columns):\n",
      "user_id    290584 non-null int64\n",
      "country    290584 non-null object\n",
      "dtypes: int64(1), object(1)\n",
      "memory usage: 4.4+ MB\n",
      "None\n"
     ]
    }
   ],
   "source": [
    "#read countries.csv and print heads and info\n",
    "df_cntrs = pd.read_csv('countries.csv')\n",
    "print(df_cntrs.head())\n",
    "print(df_cntrs.info())"
   ]
  },
  {
   "cell_type": "code",
   "execution_count": 48,
   "metadata": {},
   "outputs": [
    {
     "name": "stdout",
     "output_type": "stream",
     "text": [
      "   user_id                   timestamp      group landing_page  converted  \\\n",
      "0   661590  2017-01-11 16:55:06.154213  treatment     new_page          0   \n",
      "1   853541  2017-01-08 18:28:03.143765  treatment     new_page          0   \n",
      "2   679687  2017-01-19 03:26:46.940749  treatment     new_page          1   \n",
      "3   817355  2017-01-04 17:58:08.979471  treatment     new_page          1   \n",
      "4   839785  2017-01-15 18:11:06.610965  treatment     new_page          1   \n",
      "\n",
      "  country  \n",
      "0      US  \n",
      "1      US  \n",
      "2      CA  \n",
      "3      UK  \n",
      "4      CA  \n",
      "(290584, 6)\n",
      "All user_id available in \"df_cntrs\": True\n"
     ]
    }
   ],
   "source": [
    "# Join with the df2 dataframe\n",
    "df_merged = df2.merge(df_cntrs, how='inner', on='user_id')\n",
    "print(df_merged.head(5))\n",
    "print(df_merged.shape)\n",
    "print('All user_id available in \"df_cntrs\":', total2 == df_merged.shape[0])"
   ]
  },
  {
   "cell_type": "code",
   "execution_count": 49,
   "metadata": {},
   "outputs": [
    {
     "name": "stdout",
     "output_type": "stream",
     "text": [
      "   CA  UK  US\n",
      "0   0   0   1\n",
      "1   0   0   1\n",
      "2   1   0   0\n",
      "3   0   1   0\n",
      "4   1   0   0\n",
      "   control  treatment\n",
      "0        0          1\n",
      "1        0          1\n",
      "2        0          1\n",
      "3        0          1\n",
      "4        0          1\n"
     ]
    }
   ],
   "source": [
    "# create dummy table for 'country' column\n",
    "df_cntr = pd.get_dummies(df_merged['country'])\n",
    "print(df_cntr.head(5))\n",
    "\n",
    "# create dummy table for 'group' column\n",
    "df_group = pd.get_dummies(df_merged['group'])\n",
    "print(df_group.head(5))"
   ]
  },
  {
   "cell_type": "code",
   "execution_count": 50,
   "metadata": {},
   "outputs": [
    {
     "name": "stdout",
     "output_type": "stream",
     "text": [
      "   user_id                   timestamp      group landing_page  converted  \\\n",
      "0   661590  2017-01-11 16:55:06.154213  treatment     new_page          0   \n",
      "1   853541  2017-01-08 18:28:03.143765  treatment     new_page          0   \n",
      "2   679687  2017-01-19 03:26:46.940749  treatment     new_page          1   \n",
      "\n",
      "  country  CA  UK  US  ab_page  intercept  \n",
      "0      US   0   0   1        1          1  \n",
      "1      US   0   0   1        1          1  \n",
      "2      CA   1   0   0        1          1  \n"
     ]
    }
   ],
   "source": [
    "#add dummy variables 'CA', 'UK', 'US' to df_reg2 \n",
    "df_reg2 = df_merged.merge(df_cntr, how='inner', left_index = True, right_index = True)\n",
    "\n",
    "#add dummy variable 'ab_page' to df_reg2 (column 'treatment' from 'df_group' )\n",
    "df_reg2['ab_page'] = df_group['treatment']\n",
    "\n",
    "#add 'intercept' column\n",
    "df_reg2['intercept'] = 1\n",
    "\n",
    "print(df_reg2.head(3))"
   ]
  },
  {
   "cell_type": "code",
   "execution_count": 51,
   "metadata": {},
   "outputs": [
    {
     "name": "stdout",
     "output_type": "stream",
     "text": [
      "Optimization terminated successfully.\n",
      "         Current function value: 0.366113\n",
      "         Iterations 6\n"
     ]
    }
   ],
   "source": [
    "# Fit your model, and summarize the results\n",
    "#create matrix 'X'\n",
    "X_col2 = df_reg2[['intercept', 'ab_page', 'UK', 'US']]\n",
    "y_col2 = df_reg2['converted']\n",
    "\n",
    "#create logistic reression model\n",
    "logit_mod2 = sm.Logit(y_col2, X_col2)\n",
    "\n",
    "#fit the model\n",
    "results2 = logit_mod2.fit()"
   ]
  },
  {
   "cell_type": "code",
   "execution_count": 52,
   "metadata": {},
   "outputs": [
    {
     "name": "stdout",
     "output_type": "stream",
     "text": [
      "Print results:\n",
      "                           Results: Logit\n",
      "==================================================================\n",
      "Model:              Logit            No. Iterations:   6.0000     \n",
      "Dependent Variable: converted        Pseudo R-squared: 0.000      \n",
      "Date:               2022-01-08 16:15 AIC:              212781.1253\n",
      "No. Observations:   290584           BIC:              212823.4439\n",
      "Df Model:           3                Log-Likelihood:   -1.0639e+05\n",
      "Df Residuals:       290580           LL-Null:          -1.0639e+05\n",
      "Converged:          1.0000           Scale:            1.0000     \n",
      "-------------------------------------------------------------------\n",
      "               Coef.   Std.Err.     z      P>|z|    [0.025   0.975]\n",
      "-------------------------------------------------------------------\n",
      "intercept     -2.0300    0.0266  -76.2488  0.0000  -2.0822  -1.9778\n",
      "ab_page       -0.0149    0.0114   -1.3069  0.1912  -0.0374   0.0075\n",
      "UK             0.0506    0.0284    1.7835  0.0745  -0.0050   0.1063\n",
      "US             0.0408    0.0269    1.5161  0.1295  -0.0119   0.0934\n",
      "==================================================================\n",
      "\n",
      "Values for params:\n",
      " intercept    0.131332\n",
      "ab_page      0.985168\n",
      "UK           1.051944\n",
      "US           1.041599\n",
      "dtype: float64\n"
     ]
    }
   ],
   "source": [
    "#get summary statistics\n",
    "print('Print results:\\n', results2.summary2())\n",
    "print('Values for params:\\n', np.exp(results2.params))"
   ]
  },
  {
   "cell_type": "markdown",
   "metadata": {},
   "source": [
    "**Conclusion:**\n",
    "\n",
    "1. General results are similar to results above with out significant interaction between page and countryies (all slopes):\n",
    " - p-values more than Type I error rate ($\\alpha = 0.05$)\n",
    " - z-score for 'ab_page' higher than $Z_{\\alpha}$ = -1.9\n",
    " - z-score for 'UK', 'US' less than $Z_{\\alpha}$ = 1.9 <br>\n",
    "  This allow us fail to reject initial  𝐻0  hypothesys from section ToDo 2.1"
   ]
  },
  {
   "cell_type": "markdown",
   "metadata": {},
   "source": [
    "**h. Fit your model and obtain the results**<br> \n",
    "Though you have now looked at the individual factors of country and page on conversion, we would now like to look at an interaction between page and country to see if are there significant effects on conversion.  **Create the necessary additional columns, and fit the new model.** \n",
    "\n",
    "\n",
    "Provide the summary results (statistical output), and your conclusions (written response) based on the results. "
   ]
  },
  {
   "cell_type": "code",
   "execution_count": 53,
   "metadata": {},
   "outputs": [
    {
     "name": "stdout",
     "output_type": "stream",
     "text": [
      "   user_id                   timestamp      group landing_page  converted  \\\n",
      "0   661590  2017-01-11 16:55:06.154213  treatment     new_page          0   \n",
      "1   853541  2017-01-08 18:28:03.143765  treatment     new_page          0   \n",
      "2   679687  2017-01-19 03:26:46.940749  treatment     new_page          1   \n",
      "\n",
      "  country  CA  UK  US  ab_page  intercept  ab_page_US  ab_page_UK  \n",
      "0      US   0   0   1        1          1           1           0  \n",
      "1      US   0   0   1        1          1           1           0  \n",
      "2      CA   1   0   0        1          1           0           0  \n"
     ]
    }
   ],
   "source": [
    "# add interraction columns\n",
    "df_reg2['ab_page_US'] = df_reg2['ab_page'] * df_reg2['US']\n",
    "df_reg2['ab_page_UK'] = df_reg2['ab_page'] * df_reg2['UK']\n",
    "print(df_reg2.head(3))"
   ]
  },
  {
   "cell_type": "code",
   "execution_count": 54,
   "metadata": {},
   "outputs": [
    {
     "name": "stdout",
     "output_type": "stream",
     "text": [
      "Optimization terminated successfully.\n",
      "         Current function value: 0.366109\n",
      "         Iterations 6\n"
     ]
    }
   ],
   "source": [
    "# Fit your model, and summarize the results\n",
    "#create matrix 'X'\n",
    "X_col3 = df_reg2[['intercept', 'ab_page', 'UK', 'US','ab_page_US','ab_page_UK']]\n",
    "y_col3 = df_reg2['converted']\n",
    "\n",
    "#create logistic reression model\n",
    "logit_mod3 = sm.Logit(y_col3, X_col3)\n",
    "\n",
    "#fit the model\n",
    "results3 = logit_mod3.fit()"
   ]
  },
  {
   "cell_type": "code",
   "execution_count": 55,
   "metadata": {},
   "outputs": [
    {
     "name": "stdout",
     "output_type": "stream",
     "text": [
      "Print results:\n",
      "                           Results: Logit\n",
      "==================================================================\n",
      "Model:              Logit            No. Iterations:   6.0000     \n",
      "Dependent Variable: converted        Pseudo R-squared: 0.000      \n",
      "Date:               2022-01-08 16:15 AIC:              212782.6602\n",
      "No. Observations:   290584           BIC:              212846.1381\n",
      "Df Model:           5                Log-Likelihood:   -1.0639e+05\n",
      "Df Residuals:       290578           LL-Null:          -1.0639e+05\n",
      "Converged:          1.0000           Scale:            1.0000     \n",
      "-------------------------------------------------------------------\n",
      "               Coef.   Std.Err.     z      P>|z|    [0.025   0.975]\n",
      "-------------------------------------------------------------------\n",
      "intercept     -2.0040    0.0364  -55.0077  0.0000  -2.0754  -1.9326\n",
      "ab_page       -0.0674    0.0520   -1.2967  0.1947  -0.1694   0.0345\n",
      "UK             0.0118    0.0398    0.2957  0.7674  -0.0663   0.0899\n",
      "US             0.0175    0.0377    0.4652  0.6418  -0.0563   0.0914\n",
      "ab_page_US     0.0469    0.0538    0.8718  0.3833  -0.0585   0.1523\n",
      "ab_page_UK     0.0783    0.0568    1.3783  0.1681  -0.0330   0.1896\n",
      "==================================================================\n",
      "\n",
      "Values for params:\n",
      " intercept     0.134794\n",
      "ab_page       0.934776\n",
      "UK            1.011854\n",
      "US            1.017682\n",
      "ab_page_US    1.048001\n",
      "ab_page_UK    1.081428\n",
      "dtype: float64\n"
     ]
    }
   ],
   "source": [
    "#get summary statistics\n",
    "print('Print results:\\n', results3.summary2())\n",
    "print('Values for params:\\n', np.exp(results3.params))"
   ]
  },
  {
   "cell_type": "markdown",
   "metadata": {},
   "source": [
    "**Conclusion:**\n",
    "\n",
    "No good improvements in p-values and confidence interval values. <br>\n",
    "We can conclude that there is no interaction between page and country."
   ]
  },
  {
   "cell_type": "code",
   "execution_count": 56,
   "metadata": {},
   "outputs": [
    {
     "name": "stdout",
     "output_type": "stream",
     "text": [
      "country  group    \n",
      "CA       control      0.118783\n",
      "         treatment    0.111902\n",
      "UK       control      0.120022\n",
      "         treatment    0.121171\n",
      "US       control      0.120630\n",
      "         treatment    0.118466\n",
      "Name: converted, dtype: float64\n"
     ]
    }
   ],
   "source": [
    "#calculate detailed conversion rate for contries\n",
    "ge_mn = df_reg2.groupby(['country', 'group']).converted.mean()\n",
    "print(ge_mn)"
   ]
  },
  {
   "cell_type": "code",
   "execution_count": 57,
   "metadata": {},
   "outputs": [],
   "source": [
    "#calculate detailed % of responcies from contries\n",
    "ge_cnt = df_reg2.groupby(['country', 'group']).converted.count()/total2*100\n",
    "#print(ge_cnt)"
   ]
  },
  {
   "cell_type": "code",
   "execution_count": 58,
   "metadata": {},
   "outputs": [
    {
     "data": {
      "image/png": "[encoded data removed]",
      "text/plain": [
       "<matplotlib.figure.Figure at 0x7fd750062d68>"
      ]
     },
     "metadata": {},
     "output_type": "display_data"
    }
   ],
   "source": [
    "plt.pie(ge_cnt);\n",
    "plt.legend(ge_cnt.index);"
   ]
  },
  {
   "cell_type": "markdown",
   "metadata": {},
   "source": [
    "**Final conclusion:**\n",
    "\n",
    "1. General results are similar to results above with out significant interaction between page and countryies (all slopes):\n",
    " - p-values more than Type I error rate ($\\alpha = 0.05$)\n",
    " - z-score higher than $Z_{\\alpha}$ = -1.645 <br>\n",
    "This allow us fail to reject initial $H_0$ hypothesys from section ToDo 2.1<br>\n",
    "2. Compare to baseline contry 'CA' other have higher convertion rate (but not significant):\n",
    " - slope UK = 1.051944\n",
    " - slope US = 1.041599\n",
    "3. Addition additional variables showed that there is no interaction between page and country columns.\n",
    "4. Detailed analysys showed that main part of responces - US, and smalles is CA. Therefore it's good to increase number of respondents from CA (could be % from total population)\n",
    "5. A soon as no country impact on convertion rate other factors (i.e. age, different target groups) good to add for next testing.\n",
    "6. For this test recomendation not to start new web page now, continue testing with new factors to make more specific decision. "
   ]
  },
  {
   "cell_type": "markdown",
   "metadata": {},
   "source": [
    "<a id='finalcheck'></a>\n",
    "## Final Check!\n",
    "\n",
    "Congratulations!  You have reached the end of the A/B Test Results project!  You should be very proud of all you have accomplished!\n",
    "\n",
    "<a id='submission'></a>\n",
    "## Submission\n",
    "You may either submit your notebook through the \"SUBMIT PROJECT\" button at the bottom of this workspace, or you may work from your local machine and submit on  the last page of this project lesson.  \n",
    "\n",
    "1. Before you submit your project, you need to create a .html or .pdf version of this notebook in the workspace here. To do that, run the code cell below. If it worked correctly, you should get a return code of 0, and you should see the generated .html file in the workspace directory (click on the orange Jupyter icon in the upper left).\n",
    "\n",
    "\n",
    "2. Alternatively, you can download this report as .html via the **File** > **Download as** submenu, and then manually upload it into the workspace directory by clicking on the orange Jupyter icon in the upper left, then using the Upload button.\n",
    "\n",
    "\n",
    "3. Once you've done this, you can submit your project by clicking on the \"Submit Project\" button in the lower right here. This will create and submit a zip file with this .ipynb doc and the .html or .pdf version you created. Congratulations!"
   ]
  },
  {
   "cell_type": "code",
   "execution_count": 59,
   "metadata": {},
   "outputs": [
    {
     "data": {
      "text/plain": [
       "0"
      ]
     },
     "execution_count": 59,
     "metadata": {},
     "output_type": "execute_result"
    }
   ],
   "source": [
    "from subprocess import call\n",
    "call(['python', '-m', 'nbconvert', 'Analyze_ab_test_results_notebook.ipynb'])"
   ]
  },
  {
   "cell_type": "code",
   "execution_count": null,
   "metadata": {},
   "outputs": [],
   "source": []
  }
 ],
 "metadata": {
  "kernelspec": {
   "display_name": "Python 3",
   "language": "python",
   "name": "python3"
  },
  "language_info": {
   "codemirror_mode": {
    "name": "ipython",
    "version": 3
   },
   "file_extension": ".py",
   "mimetype": "text/x-python",
   "name": "python",
   "nbconvert_exporter": "python",
   "pygments_lexer": "ipython3",
   "version": "3.6.3"
  }
 },
 "nbformat": 4,
 "nbformat_minor": 2
}
