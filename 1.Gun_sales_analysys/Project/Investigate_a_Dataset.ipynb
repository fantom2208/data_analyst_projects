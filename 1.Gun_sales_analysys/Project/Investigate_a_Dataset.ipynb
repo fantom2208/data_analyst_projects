{
 "cells": [
  {
   "cell_type": "markdown",
   "metadata": {},
   "source": [
    "# Project: Investigate a FBI Gun Data set\n",
    "\n",
    "## Table of Contents\n",
    "<ul>\n",
    "<li><a href=\"#intro\">Introduction</a></li>\n",
    "<li><a href=\"#wrangling\">Data Wrangling</a></li>\n",
    "<li><a href=\"#eda\">Exploratory Data Analysis</a></li>\n",
    "<li><a href=\"#conclusions\">Conclusions</a></li>\n",
    "</ul>"
   ]
  },
  {
   "cell_type": "markdown",
   "metadata": {},
   "source": [
    "<a id='intro'></a>\n",
    "## 1. Introduction\n",
    "\n",
    "### 1.1. Dataset Description \n",
    "In investigation  will be used 2 data sets\n",
    "- The data comes from the FBI's National Instant Criminal Background Check System. The NICS is used by gun shops call into this system to ensure that each customer does not have a criminal record or isn’t otherwise ineligible to make a purchase. The NICS data contains the number of firearm checks by month, state, and type.\n",
    "- The U.S. census data contains several variables at the state level. Most variables just have one data point per state (2016), but a few have data for more than one year.\n",
    "\n",
    "Tables content information about  amount of population or checks per year, state.\n",
    "\n",
    "### 1.2. Question(s) for Analysis\n",
    "Question 1: what is over all staistics about gun sales capita at different states in 2010 and 2016?\n",
    "- what average level of guns sales capita\n",
    "- which states have highest and lowes levels \n",
    "- which distribution this spread has\n",
    "\n",
    "Question 2: is any correlation between population parameters and gun sales?\n",
    "- any connection between people dencity in states and level of sales gun\n",
    "- any conection between amount of people and amount of gun sales\n",
    "            \n",
    "Question 3: what is genral trend for gun sales per year?\n",
    "- compare trend for gun sales and populatation\n",
    "- is trand similar for different states"
   ]
  },
  {
   "cell_type": "markdown",
   "metadata": {},
   "source": [
    "### 1.3. Section to import and update all needed packages used in report preparation"
   ]
  },
  {
   "cell_type": "code",
   "execution_count": 1,
   "metadata": {},
   "outputs": [],
   "source": [
    "# import pandas\n",
    "import pandas as pd               # add pandas package\n",
    "import matplotlib.pyplot as plt   # add parameters to plot\n",
    "import seaborn as sns             # add visualization package\n",
    "import numpy as np                # add numpy package\n",
    "# inline plotting in Juputer notebook\n",
    "% matplotlib inline               "
   ]
  },
  {
   "cell_type": "code",
   "execution_count": 2,
   "metadata": {},
   "outputs": [
    {
     "name": "stdout",
     "output_type": "stream",
     "text": [
      "Requirement already up-to-date: pandas==0.25.0 in /opt/conda/lib/python3.6/site-packages (0.25.0)\n",
      "Requirement already satisfied, skipping upgrade: python-dateutil>=2.6.1 in /opt/conda/lib/python3.6/site-packages (from pandas==0.25.0) (2.6.1)\n",
      "Requirement already satisfied, skipping upgrade: pytz>=2017.2 in /opt/conda/lib/python3.6/site-packages (from pandas==0.25.0) (2017.3)\n",
      "Requirement already satisfied, skipping upgrade: numpy>=1.13.3 in /opt/conda/lib/python3.6/site-packages (from pandas==0.25.0) (1.19.5)\n",
      "Requirement already satisfied, skipping upgrade: six>=1.5 in /opt/conda/lib/python3.6/site-packages (from python-dateutil>=2.6.1->pandas==0.25.0) (1.11.0)\n"
     ]
    }
   ],
   "source": [
    "# Upgrade pandas to use dataframe.explode() function. \n",
    "!pip install --upgrade pandas==0.25.0"
   ]
  },
  {
   "cell_type": "markdown",
   "metadata": {},
   "source": [
    "<a id='wrangling'></a>\n",
    "## 2. Data Wrangling"
   ]
  },
  {
   "cell_type": "markdown",
   "metadata": {},
   "source": [
    "### 2.1. Load and investigate data from 'census_data.csv'. "
   ]
  },
  {
   "cell_type": "code",
   "execution_count": 3,
   "metadata": {},
   "outputs": [
    {
     "data": {
      "text/html": [
       "<div>\n",
       "<style scoped>\n",
       "    .dataframe tbody tr th:only-of-type {\n",
       "        vertical-align: middle;\n",
       "    }\n",
       "\n",
       "    .dataframe tbody tr th {\n",
       "        vertical-align: top;\n",
       "    }\n",
       "\n",
       "    .dataframe thead th {\n",
       "        text-align: right;\n",
       "    }\n",
       "</style>\n",
       "<table border=\"1\" class=\"dataframe\">\n",
       "  <thead>\n",
       "    <tr style=\"text-align: right;\">\n",
       "      <th></th>\n",
       "      <th>Fact</th>\n",
       "      <th>Fact Note</th>\n",
       "      <th>Alabama</th>\n",
       "      <th>Alaska</th>\n",
       "      <th>Arizona</th>\n",
       "      <th>Arkansas</th>\n",
       "      <th>California</th>\n",
       "      <th>Colorado</th>\n",
       "      <th>Connecticut</th>\n",
       "      <th>Delaware</th>\n",
       "      <th>...</th>\n",
       "      <th>South Dakota</th>\n",
       "      <th>Tennessee</th>\n",
       "      <th>Texas</th>\n",
       "      <th>Utah</th>\n",
       "      <th>Vermont</th>\n",
       "      <th>Virginia</th>\n",
       "      <th>Washington</th>\n",
       "      <th>West Virginia</th>\n",
       "      <th>Wisconsin</th>\n",
       "      <th>Wyoming</th>\n",
       "    </tr>\n",
       "  </thead>\n",
       "  <tbody>\n",
       "    <tr>\n",
       "      <th>0</th>\n",
       "      <td>Population estimates, July 1, 2016,  (V2016)</td>\n",
       "      <td>NaN</td>\n",
       "      <td>4,863,300</td>\n",
       "      <td>741,894</td>\n",
       "      <td>6,931,071</td>\n",
       "      <td>2,988,248</td>\n",
       "      <td>39,250,017</td>\n",
       "      <td>5,540,545</td>\n",
       "      <td>3,576,452</td>\n",
       "      <td>952,065</td>\n",
       "      <td>...</td>\n",
       "      <td>865454</td>\n",
       "      <td>6651194</td>\n",
       "      <td>27,862,596</td>\n",
       "      <td>3,051,217</td>\n",
       "      <td>624,594</td>\n",
       "      <td>8,411,808</td>\n",
       "      <td>7,288,000</td>\n",
       "      <td>1,831,102</td>\n",
       "      <td>5,778,708</td>\n",
       "      <td>585,501</td>\n",
       "    </tr>\n",
       "    <tr>\n",
       "      <th>1</th>\n",
       "      <td>Population estimates base, April 1, 2010,  (V2...</td>\n",
       "      <td>NaN</td>\n",
       "      <td>4,780,131</td>\n",
       "      <td>710,249</td>\n",
       "      <td>6,392,301</td>\n",
       "      <td>2,916,025</td>\n",
       "      <td>37,254,522</td>\n",
       "      <td>5,029,324</td>\n",
       "      <td>3,574,114</td>\n",
       "      <td>897,936</td>\n",
       "      <td>...</td>\n",
       "      <td>814195</td>\n",
       "      <td>6346298</td>\n",
       "      <td>25,146,100</td>\n",
       "      <td>2,763,888</td>\n",
       "      <td>625,741</td>\n",
       "      <td>8,001,041</td>\n",
       "      <td>6,724,545</td>\n",
       "      <td>1,853,011</td>\n",
       "      <td>5,687,289</td>\n",
       "      <td>563,767</td>\n",
       "    </tr>\n",
       "    <tr>\n",
       "      <th>2</th>\n",
       "      <td>Population, percent change - April 1, 2010 (es...</td>\n",
       "      <td>NaN</td>\n",
       "      <td>1.70%</td>\n",
       "      <td>4.50%</td>\n",
       "      <td>8.40%</td>\n",
       "      <td>2.50%</td>\n",
       "      <td>5.40%</td>\n",
       "      <td>10.20%</td>\n",
       "      <td>0.10%</td>\n",
       "      <td>6.00%</td>\n",
       "      <td>...</td>\n",
       "      <td>0.063</td>\n",
       "      <td>0.048</td>\n",
       "      <td>10.80%</td>\n",
       "      <td>10.40%</td>\n",
       "      <td>-0.20%</td>\n",
       "      <td>5.10%</td>\n",
       "      <td>8.40%</td>\n",
       "      <td>-1.20%</td>\n",
       "      <td>1.60%</td>\n",
       "      <td>3.90%</td>\n",
       "    </tr>\n",
       "  </tbody>\n",
       "</table>\n",
       "<p>3 rows × 52 columns</p>\n",
       "</div>"
      ],
      "text/plain": [
       "                                                Fact Fact Note    Alabama  \\\n",
       "0       Population estimates, July 1, 2016,  (V2016)       NaN  4,863,300   \n",
       "1  Population estimates base, April 1, 2010,  (V2...       NaN  4,780,131   \n",
       "2  Population, percent change - April 1, 2010 (es...       NaN      1.70%   \n",
       "\n",
       "    Alaska    Arizona   Arkansas  California   Colorado Connecticut Delaware  \\\n",
       "0  741,894  6,931,071  2,988,248  39,250,017  5,540,545   3,576,452  952,065   \n",
       "1  710,249  6,392,301  2,916,025  37,254,522  5,029,324   3,574,114  897,936   \n",
       "2    4.50%      8.40%      2.50%       5.40%     10.20%       0.10%    6.00%   \n",
       "\n",
       "   ... South Dakota Tennessee       Texas       Utah  Vermont   Virginia  \\\n",
       "0  ...       865454   6651194  27,862,596  3,051,217  624,594  8,411,808   \n",
       "1  ...       814195   6346298  25,146,100  2,763,888  625,741  8,001,041   \n",
       "2  ...        0.063     0.048      10.80%     10.40%   -0.20%      5.10%   \n",
       "\n",
       "  Washington West Virginia  Wisconsin  Wyoming  \n",
       "0  7,288,000     1,831,102  5,778,708  585,501  \n",
       "1  6,724,545     1,853,011  5,687,289  563,767  \n",
       "2      8.40%        -1.20%      1.60%    3.90%  \n",
       "\n",
       "[3 rows x 52 columns]"
      ]
     },
     "execution_count": 3,
     "metadata": {},
     "output_type": "execute_result"
    }
   ],
   "source": [
    "# load census data \n",
    "cdf = pd.read_csv('census_data.csv')\n",
    "cdf.head(3)"
   ]
  },
  {
   "cell_type": "code",
   "execution_count": 4,
   "metadata": {},
   "outputs": [
    {
     "name": "stdout",
     "output_type": "stream",
     "text": [
      "Dimensions\n",
      "(85, 52)\n",
      "\n",
      "Columns value\n",
      "Index(['Fact', 'Fact Note', 'Alabama', 'Alaska', 'Arizona', 'Arkansas',\n",
      "       'California', 'Colorado', 'Connecticut', 'Delaware', 'Florida',\n",
      "       'Georgia', 'Hawaii', 'Idaho', 'Illinois', 'Indiana', 'Iowa', 'Kansas',\n",
      "       'Kentucky', 'Louisiana', 'Maine', 'Maryland', 'Massachusetts',\n",
      "       'Michigan', 'Minnesota', 'Mississippi', 'Missouri', 'Montana',\n",
      "       'Nebraska', 'Nevada', 'New Hampshire', 'New Jersey', 'New Mexico',\n",
      "       'New York', 'North Carolina', 'North Dakota', 'Ohio', 'Oklahoma',\n",
      "       'Oregon', 'Pennsylvania', 'Rhode Island', 'South Carolina',\n",
      "       'South Dakota', 'Tennessee', 'Texas', 'Utah', 'Vermont', 'Virginia',\n",
      "       'Washington', 'West Virginia', 'Wisconsin', 'Wyoming'],\n",
      "      dtype='object')\n",
      "\n",
      "Row meaning\n",
      "['Population estimates, July 1, 2016,  (V2016)'\n",
      " 'Population estimates base, April 1, 2010,  (V2016)'\n",
      " 'Population, percent change - April 1, 2010 (estimates base) to July 1, 2016,  (V2016)'\n",
      " 'Population, Census, April 1, 2010'\n",
      " 'Persons under 5 years, percent, July 1, 2016,  (V2016)'\n",
      " 'Persons under 5 years, percent, April 1, 2010'\n",
      " 'Persons under 18 years, percent, July 1, 2016,  (V2016)'\n",
      " 'Persons under 18 years, percent, April 1, 2010'\n",
      " 'Persons 65 years and over, percent,  July 1, 2016,  (V2016)'\n",
      " 'Persons 65 years and over, percent, April 1, 2010'\n",
      " 'Female persons, percent,  July 1, 2016,  (V2016)'\n",
      " 'Female persons, percent, April 1, 2010'\n",
      " 'White alone, percent, July 1, 2016,  (V2016)'\n",
      " 'Black or African American alone, percent, July 1, 2016,  (V2016)'\n",
      " 'American Indian and Alaska Native alone, percent, July 1, 2016,  (V2016)'\n",
      " 'Asian alone, percent, July 1, 2016,  (V2016)'\n",
      " 'Native Hawaiian and Other Pacific Islander alone, percent, July 1, 2016,  (V2016)'\n",
      " 'Two or More Races, percent, July 1, 2016,  (V2016)'\n",
      " 'Hispanic or Latino, percent, July 1, 2016,  (V2016)'\n",
      " 'White alone, not Hispanic or Latino, percent, July 1, 2016,  (V2016)'\n",
      " 'Veterans, 2011-2015' 'Foreign born persons, percent, 2011-2015'\n",
      " 'Housing units,  July 1, 2016,  (V2016)' 'Housing units, April 1, 2010'\n",
      " 'Owner-occupied housing unit rate, 2011-2015'\n",
      " 'Median value of owner-occupied housing units, 2011-2015'\n",
      " 'Median selected monthly owner costs -with a mortgage, 2011-2015'\n",
      " 'Median selected monthly owner costs -without a mortgage, 2011-2015'\n",
      " 'Median gross rent, 2011-2015' 'Building permits, 2016'\n",
      " 'Households, 2011-2015' 'Persons per household, 2011-2015'\n",
      " 'Living in same house 1 year ago, percent of persons age 1 year+, 2011-2015'\n",
      " 'Language other than English spoken at home, percent of persons age 5 years+, 2011-2015'\n",
      " 'High school graduate or higher, percent of persons age 25 years+, 2011-2015'\n",
      " \"Bachelor's degree or higher, percent of persons age 25 years+, 2011-2015\"\n",
      " 'With a disability, under age 65 years, percent, 2011-2015'\n",
      " 'Persons  without health insurance, under age 65 years, percent'\n",
      " 'In civilian labor force, total, percent of population age 16 years+, 2011-2015'\n",
      " 'In civilian labor force, female, percent of population age 16 years+, 2011-2015'\n",
      " 'Total accommodation and food services sales, 2012 ($1,000)'\n",
      " 'Total health care and social assistance receipts/revenue, 2012 ($1,000)'\n",
      " 'Total manufacturers shipments, 2012 ($1,000)'\n",
      " 'Total merchant wholesaler sales, 2012 ($1,000)'\n",
      " 'Total retail sales, 2012 ($1,000)' 'Total retail sales per capita, 2012'\n",
      " 'Mean travel time to work (minutes), workers age 16 years+, 2011-2015'\n",
      " 'Median household income (in 2015 dollars), 2011-2015'\n",
      " 'Per capita income in past 12 months (in 2015 dollars), 2011-2015'\n",
      " 'Persons in poverty, percent' 'Total employer establishments, 2015'\n",
      " 'Total employment, 2015' 'Total annual payroll, 2015 ($1,000)'\n",
      " 'Total employment, percent change, 2014-2015'\n",
      " 'Total nonemployer establishments, 2015' 'All firms, 2012'\n",
      " 'Men-owned firms, 2012' 'Women-owned firms, 2012'\n",
      " 'Minority-owned firms, 2012' 'Nonminority-owned firms, 2012'\n",
      " 'Veteran-owned firms, 2012' 'Nonveteran-owned firms, 2012'\n",
      " 'Population per square mile, 2010' 'Land area in square miles, 2010'\n",
      " 'FIPS Code' nan\n",
      " 'NOTE: FIPS Code values are enclosed in quotes to ensure leading zeros remain intact.'\n",
      " 'Value Notes' '1' 'Fact Notes' '(a)' '(b)' '(c)' 'Value Flags' '-' 'D'\n",
      " 'F' 'FN' 'S' 'X' 'Z']\n"
     ]
    }
   ],
   "source": [
    "# show data info for 'census_data.csv'\n",
    "print('Dimensions')\n",
    "print(cdf.shape)\n",
    "print('\\nColumns value')\n",
    "print(cdf.columns)\n",
    "print ('\\nRow meaning')\n",
    "print(cdf.Fact.unique())"
   ]
  },
  {
   "cell_type": "markdown",
   "metadata": {},
   "source": [
    "**Conclusion:**\n",
    "In 'census_data.csv' there are lots of details about census statistics for 2010 and 2016 years per each of 50 state.\n",
    "Most valuable are (for first step of analysys):\n",
    "- total population for each year\n",
    "- % of people of different ages\n",
    "- people dencity per square mile (only for 2010)\n",
    "Data organization: \n",
    "- columns are states\n",
    "- rows are criterias"
   ]
  },
  {
   "cell_type": "markdown",
   "metadata": {},
   "source": [
    "### 2.2. Load and investigate data from 'gun_data.csv'"
   ]
  },
  {
   "cell_type": "code",
   "execution_count": 5,
   "metadata": {},
   "outputs": [
    {
     "data": {
      "text/html": [
       "<div>\n",
       "<style scoped>\n",
       "    .dataframe tbody tr th:only-of-type {\n",
       "        vertical-align: middle;\n",
       "    }\n",
       "\n",
       "    .dataframe tbody tr th {\n",
       "        vertical-align: top;\n",
       "    }\n",
       "\n",
       "    .dataframe thead th {\n",
       "        text-align: right;\n",
       "    }\n",
       "</style>\n",
       "<table border=\"1\" class=\"dataframe\">\n",
       "  <thead>\n",
       "    <tr style=\"text-align: right;\">\n",
       "      <th></th>\n",
       "      <th>month</th>\n",
       "      <th>state</th>\n",
       "      <th>permit</th>\n",
       "      <th>permit_recheck</th>\n",
       "      <th>handgun</th>\n",
       "      <th>long_gun</th>\n",
       "      <th>other</th>\n",
       "      <th>multiple</th>\n",
       "      <th>admin</th>\n",
       "      <th>prepawn_handgun</th>\n",
       "      <th>...</th>\n",
       "      <th>returned_other</th>\n",
       "      <th>rentals_handgun</th>\n",
       "      <th>rentals_long_gun</th>\n",
       "      <th>private_sale_handgun</th>\n",
       "      <th>private_sale_long_gun</th>\n",
       "      <th>private_sale_other</th>\n",
       "      <th>return_to_seller_handgun</th>\n",
       "      <th>return_to_seller_long_gun</th>\n",
       "      <th>return_to_seller_other</th>\n",
       "      <th>totals</th>\n",
       "    </tr>\n",
       "  </thead>\n",
       "  <tbody>\n",
       "    <tr>\n",
       "      <th>0</th>\n",
       "      <td>2017-09</td>\n",
       "      <td>Alabama</td>\n",
       "      <td>16717.0</td>\n",
       "      <td>0.0</td>\n",
       "      <td>5734.0</td>\n",
       "      <td>6320.0</td>\n",
       "      <td>221.0</td>\n",
       "      <td>317</td>\n",
       "      <td>0.0</td>\n",
       "      <td>15.0</td>\n",
       "      <td>...</td>\n",
       "      <td>0.0</td>\n",
       "      <td>0.0</td>\n",
       "      <td>0.0</td>\n",
       "      <td>9.0</td>\n",
       "      <td>16.0</td>\n",
       "      <td>3.0</td>\n",
       "      <td>0.0</td>\n",
       "      <td>0.0</td>\n",
       "      <td>3.0</td>\n",
       "      <td>32019</td>\n",
       "    </tr>\n",
       "    <tr>\n",
       "      <th>1</th>\n",
       "      <td>2017-09</td>\n",
       "      <td>Alaska</td>\n",
       "      <td>209.0</td>\n",
       "      <td>2.0</td>\n",
       "      <td>2320.0</td>\n",
       "      <td>2930.0</td>\n",
       "      <td>219.0</td>\n",
       "      <td>160</td>\n",
       "      <td>0.0</td>\n",
       "      <td>5.0</td>\n",
       "      <td>...</td>\n",
       "      <td>0.0</td>\n",
       "      <td>0.0</td>\n",
       "      <td>0.0</td>\n",
       "      <td>17.0</td>\n",
       "      <td>24.0</td>\n",
       "      <td>1.0</td>\n",
       "      <td>0.0</td>\n",
       "      <td>0.0</td>\n",
       "      <td>0.0</td>\n",
       "      <td>6303</td>\n",
       "    </tr>\n",
       "    <tr>\n",
       "      <th>2</th>\n",
       "      <td>2017-09</td>\n",
       "      <td>Arizona</td>\n",
       "      <td>5069.0</td>\n",
       "      <td>382.0</td>\n",
       "      <td>11063.0</td>\n",
       "      <td>7946.0</td>\n",
       "      <td>920.0</td>\n",
       "      <td>631</td>\n",
       "      <td>0.0</td>\n",
       "      <td>13.0</td>\n",
       "      <td>...</td>\n",
       "      <td>0.0</td>\n",
       "      <td>0.0</td>\n",
       "      <td>0.0</td>\n",
       "      <td>38.0</td>\n",
       "      <td>12.0</td>\n",
       "      <td>2.0</td>\n",
       "      <td>0.0</td>\n",
       "      <td>0.0</td>\n",
       "      <td>0.0</td>\n",
       "      <td>28394</td>\n",
       "    </tr>\n",
       "  </tbody>\n",
       "</table>\n",
       "<p>3 rows × 27 columns</p>\n",
       "</div>"
      ],
      "text/plain": [
       "     month    state   permit  permit_recheck  handgun  long_gun  other  \\\n",
       "0  2017-09  Alabama  16717.0             0.0   5734.0    6320.0  221.0   \n",
       "1  2017-09   Alaska    209.0             2.0   2320.0    2930.0  219.0   \n",
       "2  2017-09  Arizona   5069.0           382.0  11063.0    7946.0  920.0   \n",
       "\n",
       "   multiple  admin  prepawn_handgun  ...  returned_other  rentals_handgun  \\\n",
       "0       317    0.0             15.0  ...             0.0              0.0   \n",
       "1       160    0.0              5.0  ...             0.0              0.0   \n",
       "2       631    0.0             13.0  ...             0.0              0.0   \n",
       "\n",
       "   rentals_long_gun  private_sale_handgun  private_sale_long_gun  \\\n",
       "0               0.0                   9.0                   16.0   \n",
       "1               0.0                  17.0                   24.0   \n",
       "2               0.0                  38.0                   12.0   \n",
       "\n",
       "   private_sale_other  return_to_seller_handgun  return_to_seller_long_gun  \\\n",
       "0                 3.0                       0.0                        0.0   \n",
       "1                 1.0                       0.0                        0.0   \n",
       "2                 2.0                       0.0                        0.0   \n",
       "\n",
       "   return_to_seller_other  totals  \n",
       "0                     3.0   32019  \n",
       "1                     0.0    6303  \n",
       "2                     0.0   28394  \n",
       "\n",
       "[3 rows x 27 columns]"
      ]
     },
     "execution_count": 5,
     "metadata": {},
     "output_type": "execute_result"
    }
   ],
   "source": [
    "#load data for gun checks\n",
    "gdf = pd.read_csv('gun_data.csv', sep=';')\n",
    "gdf.head(3)"
   ]
  },
  {
   "cell_type": "code",
   "execution_count": 6,
   "metadata": {},
   "outputs": [
    {
     "name": "stdout",
     "output_type": "stream",
     "text": [
      "Dimensions\n",
      "(12485, 27)\n",
      "\n",
      "Columns value\n",
      "Index(['month', 'state', 'permit', 'permit_recheck', 'handgun', 'long_gun',\n",
      "       'other', 'multiple', 'admin', 'prepawn_handgun', 'prepawn_long_gun',\n",
      "       'prepawn_other', 'redemption_handgun', 'redemption_long_gun',\n",
      "       'redemption_other', 'returned_handgun', 'returned_long_gun',\n",
      "       'returned_other', 'rentals_handgun', 'rentals_long_gun',\n",
      "       'private_sale_handgun', 'private_sale_long_gun', 'private_sale_other',\n",
      "       'return_to_seller_handgun', 'return_to_seller_long_gun',\n",
      "       'return_to_seller_other', 'totals'],\n",
      "      dtype='object')\n"
     ]
    }
   ],
   "source": [
    "# show data info for 'gun_data.csv'\n",
    "print('Dimensions')\n",
    "print(gdf.shape)\n",
    "print('\\nColumns value')\n",
    "print(gdf.columns)"
   ]
  },
  {
   "cell_type": "code",
   "execution_count": 7,
   "metadata": {},
   "outputs": [
    {
     "name": "stdout",
     "output_type": "stream",
     "text": [
      "<class 'pandas.core.frame.DataFrame'>\n",
      "RangeIndex: 12485 entries, 0 to 12484\n",
      "Data columns (total 27 columns):\n",
      "month                        12485 non-null object\n",
      "state                        12485 non-null object\n",
      "permit                       12461 non-null float64\n",
      "permit_recheck               1100 non-null float64\n",
      "handgun                      12465 non-null float64\n",
      "long_gun                     12466 non-null float64\n",
      "other                        5500 non-null float64\n",
      "multiple                     12485 non-null int64\n",
      "admin                        12462 non-null float64\n",
      "prepawn_handgun              10542 non-null float64\n",
      "prepawn_long_gun             10540 non-null float64\n",
      "prepawn_other                5115 non-null float64\n",
      "redemption_handgun           10545 non-null float64\n",
      "redemption_long_gun          10544 non-null float64\n",
      "redemption_other             5115 non-null float64\n",
      "returned_handgun             2200 non-null float64\n",
      "returned_long_gun            2145 non-null float64\n",
      "returned_other               1815 non-null float64\n",
      "rentals_handgun              990 non-null float64\n",
      "rentals_long_gun             825 non-null float64\n",
      "private_sale_handgun         2750 non-null float64\n",
      "private_sale_long_gun        2750 non-null float64\n",
      "private_sale_other           2750 non-null float64\n",
      "return_to_seller_handgun     2475 non-null float64\n",
      "return_to_seller_long_gun    2750 non-null float64\n",
      "return_to_seller_other       2255 non-null float64\n",
      "totals                       12485 non-null int64\n",
      "dtypes: float64(23), int64(2), object(2)\n",
      "memory usage: 2.6+ MB\n"
     ]
    }
   ],
   "source": [
    "#check data types and values for initial DF\n",
    "gdf.info()"
   ]
  },
  {
   "cell_type": "markdown",
   "metadata": {},
   "source": [
    "**Conclusion:** \n",
    "\n",
    "*Note: Original file 'gun_data.xlsx' was tranferred to 'gun_data.csv' by using MS Excel*\n",
    "\n",
    "In 'gun_data.csv' there are detailed statistics for different gun checks per month for each state.\n",
    "Most valuable are (based on comments and recommendations):\n",
    "- amount of checks for handgun \n",
    "- amount of checks for long_gun\n",
    "- amount of checks for multiple guns\n",
    "Data organization: \n",
    "- columns are different check types\n",
    "- rows are total amount of checks per month per state\n",
    "\n",
    "*note: not all data for checks are available, there are NULL vlaue*"
   ]
  },
  {
   "cell_type": "markdown",
   "metadata": {},
   "source": [
    "### 2.3. Reorganize and clean data from 'census_data.csv'. \n",
    "Main actions to clean data: \n",
    "- extract population data for 2010 and 2016 in different states, \n",
    "- extract % of people under 18 for calculation values for adulte population (who able to buy guns)\n",
    "- reorganize data frame: shift from rows data to columns data for each state,\n",
    "- check communality of data formats and convert data types to numeic, \n",
    "- calculate adult population (older than 18 years) to specify amount of people able to buy guns."
   ]
  },
  {
   "cell_type": "code",
   "execution_count": 8,
   "metadata": {},
   "outputs": [
    {
     "name": "stdout",
     "output_type": "stream",
     "text": [
      "2016 population: \n",
      " Alabama    4,863,300\n",
      "Alaska       741,894\n",
      "Arizona    6,931,071\n",
      "dtype: object\n",
      " \n",
      "2010 population: \n",
      " Alabama    4,780,131\n",
      "Alaska       710,249\n",
      "Arizona    6,392,301\n",
      "dtype: object\n"
     ]
    }
   ],
   "source": [
    "#select total population at different states in 2016 as separate lists\n",
    "row_to_select = ['Population estimates, July 1, 2016,  (V2016)']\n",
    "cdf_ppltn_16 = cdf.query('Fact == @row_to_select').loc[:,'Alabama':'Wyoming']\n",
    "cdf_ppltn_16_val = cdf_ppltn_16.sum()\n",
    "print('2016 population: \\n', cdf_ppltn_16_val.head(3))\n",
    "print(\" \")\n",
    "\n",
    "#select total population at different states in 2010 as separate lists\n",
    "row_to_select = ['Population estimates base, April 1, 2010,  (V2016)']\n",
    "cdf_ppltn_10 = cdf.query('Fact == @row_to_select').loc[:,'Alabama':'Wyoming']\n",
    "cdf_ppltn_10_val= cdf_ppltn_10.sum()\n",
    "print('2010 population: \\n', cdf_ppltn_10_val.head(3))"
   ]
  },
  {
   "cell_type": "code",
   "execution_count": 9,
   "metadata": {},
   "outputs": [
    {
     "name": "stdout",
     "output_type": "stream",
     "text": [
      "2016 youth: \n",
      " Alabama    22.60%\n",
      "Alaska     25.20%\n",
      "Arizona    23.50%\n",
      "dtype: object\n",
      " \n",
      "2010 youth: \n",
      " Alabama    23.70%\n",
      "Alaska     26.40%\n",
      "Arizona    25.50%\n",
      "dtype: object\n"
     ]
    }
   ],
   "source": [
    "#select % of young people (under 18 years) at different states in 2016 as separate lists\n",
    "row_to_select = ['Persons under 18 years, percent, July 1, 2016,  (V2016)']\n",
    "cdf_yng_16 = cdf.query('Fact == @row_to_select').loc[:,'Alabama':'Wyoming']\n",
    "cdf_yng_16_val = cdf_yng_16.sum()\n",
    "print('2016 youth: \\n', cdf_yng_16_val.head(3))\n",
    "print(\" \")\n",
    "\n",
    "#select % of young people (under 18 years) at different states in 2016 as separate lists\n",
    "row_to_select = ['Persons under 18 years, percent, April 1, 2010']\n",
    "cdf_yng_10 = cdf.query('Fact == @row_to_select').loc[:,'Alabama':'Wyoming']\n",
    "cdf_yng_10_val = cdf_yng_10.sum()\n",
    "print('2010 youth: \\n', cdf_yng_10_val.head(3))"
   ]
  },
  {
   "cell_type": "code",
   "execution_count": 10,
   "metadata": {},
   "outputs": [
    {
     "name": "stdout",
     "output_type": "stream",
     "text": [
      "2010 population per square mile: \n",
      " Alabama    94.4\n",
      "Alaska      1.2\n",
      "Arizona    56.3\n",
      "dtype: object\n"
     ]
    }
   ],
   "source": [
    "#select population per sq mile at different states in 2010 as separate lists\n",
    "row_to_select = ['Population per square mile, 2010']\n",
    "cdf_ppsm_10_val = cdf.query('Fact == @row_to_select').loc[:,'Alabama':'Wyoming']\n",
    "cdf_ppsm_10_val = cdf_ppsm_10_val.sum()\n",
    "print('2010 population per square mile: \\n', cdf_ppsm_10_val.head(3))"
   ]
  },
  {
   "cell_type": "code",
   "execution_count": 11,
   "metadata": {},
   "outputs": [],
   "source": [
    "# create new data frame with states and population in 2010 and 2016\n",
    "states = cdf_yng_16.columns\n",
    "cols = ['state', 'tot_ppltn_10', 'tot_ppltn_16', 'yng_prcnt_10', 'yng_prcnt_16', 'tot_ppsm_10']\n",
    "indx = list(range(states.shape[0]))\n",
    "cdf_ppltn = pd.DataFrame( \n",
    "    {cols[0]:states, \n",
    "     cols[1]:cdf_ppltn_16_val, \n",
    "     cols[2]:cdf_ppltn_10_val,\n",
    "     cols[3]:cdf_yng_10_val,\n",
    "     cols[4]:cdf_yng_16_val,\n",
    "     cols[5]:cdf_ppsm_10_val } )"
   ]
  },
  {
   "cell_type": "code",
   "execution_count": 12,
   "metadata": {},
   "outputs": [
    {
     "name": "stdout",
     "output_type": "stream",
     "text": [
      "NULL values: \n",
      " state           0\n",
      "tot_ppltn_10    0\n",
      "tot_ppltn_16    0\n",
      "yng_prcnt_10    0\n",
      "yng_prcnt_16    0\n",
      "tot_ppsm_10     0\n",
      "dtype: int64\n"
     ]
    },
    {
     "data": {
      "text/html": [
       "<div>\n",
       "<style scoped>\n",
       "    .dataframe tbody tr th:only-of-type {\n",
       "        vertical-align: middle;\n",
       "    }\n",
       "\n",
       "    .dataframe tbody tr th {\n",
       "        vertical-align: top;\n",
       "    }\n",
       "\n",
       "    .dataframe thead th {\n",
       "        text-align: right;\n",
       "    }\n",
       "</style>\n",
       "<table border=\"1\" class=\"dataframe\">\n",
       "  <thead>\n",
       "    <tr style=\"text-align: right;\">\n",
       "      <th></th>\n",
       "      <th>state</th>\n",
       "      <th>tot_ppltn_10</th>\n",
       "      <th>tot_ppltn_16</th>\n",
       "      <th>yng_prcnt_10</th>\n",
       "      <th>yng_prcnt_16</th>\n",
       "      <th>tot_ppsm_10</th>\n",
       "    </tr>\n",
       "  </thead>\n",
       "  <tbody>\n",
       "    <tr>\n",
       "      <th>Oklahoma</th>\n",
       "      <td>Oklahoma</td>\n",
       "      <td>3923561</td>\n",
       "      <td>3751615</td>\n",
       "      <td>0.248</td>\n",
       "      <td>0.245</td>\n",
       "      <td>54.7</td>\n",
       "    </tr>\n",
       "    <tr>\n",
       "      <th>Oregon</th>\n",
       "      <td>Oregon</td>\n",
       "      <td>4093465</td>\n",
       "      <td>3831072</td>\n",
       "      <td>0.226</td>\n",
       "      <td>0.212</td>\n",
       "      <td>39.9</td>\n",
       "    </tr>\n",
       "    <tr>\n",
       "      <th>Pennsylvania</th>\n",
       "      <td>Pennsylvania</td>\n",
       "      <td>12784227</td>\n",
       "      <td>12702857</td>\n",
       "      <td>0.22</td>\n",
       "      <td>0.209</td>\n",
       "      <td>283.9</td>\n",
       "    </tr>\n",
       "    <tr>\n",
       "      <th>Rhode Island</th>\n",
       "      <td>Rhode Island</td>\n",
       "      <td>1056426</td>\n",
       "      <td>1052940</td>\n",
       "      <td>0.213</td>\n",
       "      <td>0.197</td>\n",
       "      <td>1018.1</td>\n",
       "    </tr>\n",
       "    <tr>\n",
       "      <th>South Carolina</th>\n",
       "      <td>South Carolina</td>\n",
       "      <td>4961119</td>\n",
       "      <td>4625410</td>\n",
       "      <td>0.234</td>\n",
       "      <td>0.221</td>\n",
       "      <td>153.9</td>\n",
       "    </tr>\n",
       "    <tr>\n",
       "      <th>South Dakota</th>\n",
       "      <td>South Dakota</td>\n",
       "      <td>865454</td>\n",
       "      <td>814195</td>\n",
       "      <td>0.249</td>\n",
       "      <td>0.246</td>\n",
       "      <td>10.7</td>\n",
       "    </tr>\n",
       "    <tr>\n",
       "      <th>Tennessee</th>\n",
       "      <td>Tennessee</td>\n",
       "      <td>6651194</td>\n",
       "      <td>6346298</td>\n",
       "      <td>0.236</td>\n",
       "      <td>0.226</td>\n",
       "      <td>153.9</td>\n",
       "    </tr>\n",
       "    <tr>\n",
       "      <th>Texas</th>\n",
       "      <td>Texas</td>\n",
       "      <td>27,862,596</td>\n",
       "      <td>25,146,100</td>\n",
       "      <td>27.30%</td>\n",
       "      <td>26.20%</td>\n",
       "      <td>96.3</td>\n",
       "    </tr>\n",
       "    <tr>\n",
       "      <th>Utah</th>\n",
       "      <td>Utah</td>\n",
       "      <td>3,051,217</td>\n",
       "      <td>2,763,888</td>\n",
       "      <td>31.50%</td>\n",
       "      <td>30.20%</td>\n",
       "      <td>33.6</td>\n",
       "    </tr>\n",
       "    <tr>\n",
       "      <th>Vermont</th>\n",
       "      <td>Vermont</td>\n",
       "      <td>624,594</td>\n",
       "      <td>625,741</td>\n",
       "      <td>20.70%</td>\n",
       "      <td>19.00%</td>\n",
       "      <td>67.9</td>\n",
       "    </tr>\n",
       "    <tr>\n",
       "      <th>Virginia</th>\n",
       "      <td>Virginia</td>\n",
       "      <td>8,411,808</td>\n",
       "      <td>8,001,041</td>\n",
       "      <td>23.20%</td>\n",
       "      <td>22.20%</td>\n",
       "      <td>202.6</td>\n",
       "    </tr>\n",
       "    <tr>\n",
       "      <th>Washington</th>\n",
       "      <td>Washington</td>\n",
       "      <td>7,288,000</td>\n",
       "      <td>6,724,545</td>\n",
       "      <td>23.50%</td>\n",
       "      <td>22.40%</td>\n",
       "      <td>101.2</td>\n",
       "    </tr>\n",
       "    <tr>\n",
       "      <th>West Virginia</th>\n",
       "      <td>West Virginia</td>\n",
       "      <td>1,831,102</td>\n",
       "      <td>1,853,011</td>\n",
       "      <td>20.90%</td>\n",
       "      <td>20.50%</td>\n",
       "      <td>77.1</td>\n",
       "    </tr>\n",
       "    <tr>\n",
       "      <th>Wisconsin</th>\n",
       "      <td>Wisconsin</td>\n",
       "      <td>5,778,708</td>\n",
       "      <td>5,687,289</td>\n",
       "      <td>23.60%</td>\n",
       "      <td>22.30%</td>\n",
       "      <td>105</td>\n",
       "    </tr>\n",
       "    <tr>\n",
       "      <th>Wyoming</th>\n",
       "      <td>Wyoming</td>\n",
       "      <td>585,501</td>\n",
       "      <td>563,767</td>\n",
       "      <td>24.00%</td>\n",
       "      <td>23.70%</td>\n",
       "      <td>5.8</td>\n",
       "    </tr>\n",
       "  </tbody>\n",
       "</table>\n",
       "</div>"
      ],
      "text/plain": [
       "                         state tot_ppltn_10 tot_ppltn_16 yng_prcnt_10  \\\n",
       "Oklahoma              Oklahoma      3923561      3751615        0.248   \n",
       "Oregon                  Oregon      4093465      3831072        0.226   \n",
       "Pennsylvania      Pennsylvania     12784227     12702857         0.22   \n",
       "Rhode Island      Rhode Island      1056426      1052940        0.213   \n",
       "South Carolina  South Carolina      4961119      4625410        0.234   \n",
       "South Dakota      South Dakota       865454       814195        0.249   \n",
       "Tennessee            Tennessee      6651194      6346298        0.236   \n",
       "Texas                    Texas   27,862,596   25,146,100       27.30%   \n",
       "Utah                      Utah    3,051,217    2,763,888       31.50%   \n",
       "Vermont                Vermont      624,594      625,741       20.70%   \n",
       "Virginia              Virginia    8,411,808    8,001,041       23.20%   \n",
       "Washington          Washington    7,288,000    6,724,545       23.50%   \n",
       "West Virginia    West Virginia    1,831,102    1,853,011       20.90%   \n",
       "Wisconsin            Wisconsin    5,778,708    5,687,289       23.60%   \n",
       "Wyoming                Wyoming      585,501      563,767       24.00%   \n",
       "\n",
       "               yng_prcnt_16 tot_ppsm_10  \n",
       "Oklahoma              0.245        54.7  \n",
       "Oregon                0.212        39.9  \n",
       "Pennsylvania          0.209       283.9  \n",
       "Rhode Island          0.197      1018.1  \n",
       "South Carolina        0.221       153.9  \n",
       "South Dakota          0.246        10.7  \n",
       "Tennessee             0.226       153.9  \n",
       "Texas                26.20%        96.3  \n",
       "Utah                 30.20%        33.6  \n",
       "Vermont              19.00%        67.9  \n",
       "Virginia             22.20%       202.6  \n",
       "Washington           22.40%       101.2  \n",
       "West Virginia        20.50%        77.1  \n",
       "Wisconsin            22.30%         105  \n",
       "Wyoming              23.70%         5.8  "
      ]
     },
     "execution_count": 12,
     "metadata": {},
     "output_type": "execute_result"
    }
   ],
   "source": [
    "#check null values and data content\n",
    "print('NULL values: \\n', cdf_ppltn.isnull().sum())\n",
    "cdf_ppltn.tail(15)"
   ]
  },
  {
   "cell_type": "markdown",
   "metadata": {},
   "source": [
    "**Short conclusion for  data content:**\n",
    "- no NULL values in data\n",
    "- for population data used ',' to separate thousands\n",
    "- for percent data used 2 types: with % value and decimal value\n",
    "\n",
    "Deviation to be fixed during \"cleaning process\" and datatypes converted to numeric bellow"
   ]
  },
  {
   "cell_type": "code",
   "execution_count": 13,
   "metadata": {},
   "outputs": [
    {
     "data": {
      "text/plain": [
       "state           object\n",
       "tot_ppltn_10    object\n",
       "tot_ppltn_16    object\n",
       "yng_prcnt_10    object\n",
       "yng_prcnt_16    object\n",
       "tot_ppsm_10     object\n",
       "dtype: object"
      ]
     },
     "execution_count": 13,
     "metadata": {},
     "output_type": "execute_result"
    }
   ],
   "source": [
    "#check data types for initial DF\n",
    "cdf_ppltn.dtypes"
   ]
  },
  {
   "cell_type": "markdown",
   "metadata": {},
   "source": [
    "In cycle replace string simbols and conver to different formats"
   ]
  },
  {
   "cell_type": "code",
   "execution_count": 14,
   "metadata": {},
   "outputs": [],
   "source": [
    "# change str to int for population, \n",
    "# str to float for under 18 population percent\n",
    "# str to float for under 18 population dencity\n",
    "\n",
    "symb = [',', ',', '%', '%', ',']\n",
    "tps = ['int', 'int', 'float', 'float', 'float']\n",
    "idx = 0\n",
    "for col in cdf_ppltn.columns[1:]:\n",
    "    cdf_ppltn[col] = cdf_ppltn[col].str.replace(symb[idx], '', regex=True)\n",
    "    cdf_ppltn[col] = cdf_ppltn[col].astype(tps[idx])\n",
    "    idx = idx + 1"
   ]
  },
  {
   "cell_type": "markdown",
   "metadata": {},
   "source": [
    "Percent values should be converted to decimal format"
   ]
  },
  {
   "cell_type": "code",
   "execution_count": 15,
   "metadata": {},
   "outputs": [],
   "source": [
    "# select indexes of rows with percent format (> 1)\n",
    "prcnt_idx = cdf_ppltn.query('yng_prcnt_10 > 1')['yng_prcnt_10'].index\n",
    "# calculate values in decimal format\n",
    "prcnt_val_cor = cdf_ppltn.loc[prcnt_idx, 'yng_prcnt_10':'yng_prcnt_16']/100\n",
    "# update values from % to deciaml\n",
    "cdf_ppltn.loc[prcnt_idx, 'yng_prcnt_10':'yng_prcnt_16'] = prcnt_val_cor"
   ]
  },
  {
   "cell_type": "markdown",
   "metadata": {},
   "source": [
    "Add extra columns contained calculated adulte population data"
   ]
  },
  {
   "cell_type": "code",
   "execution_count": 16,
   "metadata": {},
   "outputs": [
    {
     "data": {
      "text/html": [
       "<div>\n",
       "<style scoped>\n",
       "    .dataframe tbody tr th:only-of-type {\n",
       "        vertical-align: middle;\n",
       "    }\n",
       "\n",
       "    .dataframe tbody tr th {\n",
       "        vertical-align: top;\n",
       "    }\n",
       "\n",
       "    .dataframe thead th {\n",
       "        text-align: right;\n",
       "    }\n",
       "</style>\n",
       "<table border=\"1\" class=\"dataframe\">\n",
       "  <thead>\n",
       "    <tr style=\"text-align: right;\">\n",
       "      <th></th>\n",
       "      <th>state</th>\n",
       "      <th>tot_ppltn_10</th>\n",
       "      <th>tot_ppltn_16</th>\n",
       "      <th>yng_prcnt_10</th>\n",
       "      <th>yng_prcnt_16</th>\n",
       "      <th>tot_ppsm_10</th>\n",
       "      <th>adlt_ppltn_10</th>\n",
       "      <th>adlt_ppltn_16</th>\n",
       "      <th>adlt_ppsm_10</th>\n",
       "    </tr>\n",
       "  </thead>\n",
       "  <tbody>\n",
       "    <tr>\n",
       "      <th>Alabama</th>\n",
       "      <td>Alabama</td>\n",
       "      <td>4863300</td>\n",
       "      <td>4780131</td>\n",
       "      <td>0.237</td>\n",
       "      <td>0.226</td>\n",
       "      <td>94.4</td>\n",
       "      <td>3710698</td>\n",
       "      <td>3699821</td>\n",
       "      <td>72.0</td>\n",
       "    </tr>\n",
       "    <tr>\n",
       "      <th>Alaska</th>\n",
       "      <td>Alaska</td>\n",
       "      <td>741894</td>\n",
       "      <td>710249</td>\n",
       "      <td>0.264</td>\n",
       "      <td>0.252</td>\n",
       "      <td>1.2</td>\n",
       "      <td>546034</td>\n",
       "      <td>531266</td>\n",
       "      <td>1.0</td>\n",
       "    </tr>\n",
       "    <tr>\n",
       "      <th>Arizona</th>\n",
       "      <td>Arizona</td>\n",
       "      <td>6931071</td>\n",
       "      <td>6392301</td>\n",
       "      <td>0.255</td>\n",
       "      <td>0.235</td>\n",
       "      <td>56.3</td>\n",
       "      <td>5163648</td>\n",
       "      <td>4890110</td>\n",
       "      <td>42.0</td>\n",
       "    </tr>\n",
       "  </tbody>\n",
       "</table>\n",
       "</div>"
      ],
      "text/plain": [
       "           state  tot_ppltn_10  tot_ppltn_16  yng_prcnt_10  yng_prcnt_16  \\\n",
       "Alabama  Alabama       4863300       4780131         0.237         0.226   \n",
       "Alaska    Alaska        741894        710249         0.264         0.252   \n",
       "Arizona  Arizona       6931071       6392301         0.255         0.235   \n",
       "\n",
       "         tot_ppsm_10  adlt_ppltn_10  adlt_ppltn_16  adlt_ppsm_10  \n",
       "Alabama         94.4        3710698        3699821          72.0  \n",
       "Alaska           1.2         546034         531266           1.0  \n",
       "Arizona         56.3        5163648        4890110          42.0  "
      ]
     },
     "execution_count": 16,
     "metadata": {},
     "output_type": "execute_result"
    }
   ],
   "source": [
    "#calculate adulte population as ( 1 - perent of young ) from totla poulation\n",
    "cdf_ppltn['adlt_ppltn_10'] = round(cdf_ppltn.tot_ppltn_10*(1-cdf_ppltn.yng_prcnt_10))\n",
    "cdf_ppltn['adlt_ppltn_16'] = round(cdf_ppltn.tot_ppltn_16*(1-cdf_ppltn.yng_prcnt_16))\n",
    "cdf_ppltn['adlt_ppsm_10']  = round(cdf_ppltn.tot_ppsm_10 *(1-cdf_ppltn.yng_prcnt_10))\n",
    "\n",
    "#conver types from float to int\n",
    "cdf_ppltn.adlt_ppltn_10 = cdf_ppltn.adlt_ppltn_10.astype(int)\n",
    "cdf_ppltn.adlt_ppltn_16 = cdf_ppltn.adlt_ppltn_16.astype(int)\n",
    "cdf_ppltn.adlt_ppsm_10  = cdf_ppltn.adlt_ppsm_10.astype(float)\n",
    "\n",
    "cdf_ppltn.head(3)"
   ]
  },
  {
   "cell_type": "code",
   "execution_count": 17,
   "metadata": {},
   "outputs": [
    {
     "name": "stdout",
     "output_type": "stream",
     "text": [
      "(50, 9)\n"
     ]
    },
    {
     "data": {
      "text/plain": [
       "state             object\n",
       "tot_ppltn_10       int64\n",
       "tot_ppltn_16       int64\n",
       "yng_prcnt_10     float64\n",
       "yng_prcnt_16     float64\n",
       "tot_ppsm_10      float64\n",
       "adlt_ppltn_10      int64\n",
       "adlt_ppltn_16      int64\n",
       "adlt_ppsm_10     float64\n",
       "dtype: object"
      ]
     },
     "execution_count": 17,
     "metadata": {},
     "output_type": "execute_result"
    }
   ],
   "source": [
    "#check shape and data types for final table\n",
    "print(cdf_ppltn.shape)\n",
    "cdf_ppltn.dtypes"
   ]
  },
  {
   "cell_type": "code",
   "execution_count": 18,
   "metadata": {},
   "outputs": [],
   "source": [
    "# save clean data in file 'census_data_clean.csv'\n",
    "cdf_ppltn.to_csv('census_data_clean.csv', index=False)"
   ]
  },
  {
   "cell_type": "markdown",
   "metadata": {},
   "source": [
    "### 2.4. Reorganize and clean data from 'gun_data.csv'\n",
    "Actions to clean data: \n",
    "- to select colums which repesent connection between checks and sales:\n",
    "  'handgun', 'long_gun', 'multiple'\n",
    "- treat month as period and duplicate it to year and month\n",
    "- convert types to numeric"
   ]
  },
  {
   "cell_type": "code",
   "execution_count": 19,
   "metadata": {},
   "outputs": [
    {
     "data": {
      "text/html": [
       "<div>\n",
       "<style scoped>\n",
       "    .dataframe tbody tr th:only-of-type {\n",
       "        vertical-align: middle;\n",
       "    }\n",
       "\n",
       "    .dataframe tbody tr th {\n",
       "        vertical-align: top;\n",
       "    }\n",
       "\n",
       "    .dataframe thead th {\n",
       "        text-align: right;\n",
       "    }\n",
       "</style>\n",
       "<table border=\"1\" class=\"dataframe\">\n",
       "  <thead>\n",
       "    <tr style=\"text-align: right;\">\n",
       "      <th></th>\n",
       "      <th>month</th>\n",
       "      <th>state</th>\n",
       "      <th>handgun</th>\n",
       "      <th>long_gun</th>\n",
       "      <th>multiple</th>\n",
       "    </tr>\n",
       "  </thead>\n",
       "  <tbody>\n",
       "    <tr>\n",
       "      <th>0</th>\n",
       "      <td>2017-09</td>\n",
       "      <td>Alabama</td>\n",
       "      <td>5734.0</td>\n",
       "      <td>6320.0</td>\n",
       "      <td>317</td>\n",
       "    </tr>\n",
       "    <tr>\n",
       "      <th>1</th>\n",
       "      <td>2017-09</td>\n",
       "      <td>Alaska</td>\n",
       "      <td>2320.0</td>\n",
       "      <td>2930.0</td>\n",
       "      <td>160</td>\n",
       "    </tr>\n",
       "    <tr>\n",
       "      <th>2</th>\n",
       "      <td>2017-09</td>\n",
       "      <td>Arizona</td>\n",
       "      <td>11063.0</td>\n",
       "      <td>7946.0</td>\n",
       "      <td>631</td>\n",
       "    </tr>\n",
       "  </tbody>\n",
       "</table>\n",
       "</div>"
      ],
      "text/plain": [
       "     month    state  handgun  long_gun  multiple\n",
       "0  2017-09  Alabama   5734.0    6320.0       317\n",
       "1  2017-09   Alaska   2320.0    2930.0       160\n",
       "2  2017-09  Arizona  11063.0    7946.0       631"
      ]
     },
     "execution_count": 19,
     "metadata": {},
     "output_type": "execute_result"
    }
   ],
   "source": [
    "# drop other colums and keep only 'handgun' 'long_gun' 'multiple' per state and month\n",
    "gdf_buy = gdf.iloc[:,[0,1,4,5,7]]\n",
    "gdf_buy.head(3)"
   ]
  },
  {
   "cell_type": "code",
   "execution_count": 20,
   "metadata": {},
   "outputs": [
    {
     "data": {
      "text/html": [
       "<div>\n",
       "<style scoped>\n",
       "    .dataframe tbody tr th:only-of-type {\n",
       "        vertical-align: middle;\n",
       "    }\n",
       "\n",
       "    .dataframe tbody tr th {\n",
       "        vertical-align: top;\n",
       "    }\n",
       "\n",
       "    .dataframe thead th {\n",
       "        text-align: right;\n",
       "    }\n",
       "</style>\n",
       "<table border=\"1\" class=\"dataframe\">\n",
       "  <thead>\n",
       "    <tr style=\"text-align: right;\">\n",
       "      <th></th>\n",
       "      <th>period</th>\n",
       "      <th>state</th>\n",
       "      <th>handgun</th>\n",
       "      <th>long_gun</th>\n",
       "      <th>multiple</th>\n",
       "      <th>year</th>\n",
       "      <th>month</th>\n",
       "    </tr>\n",
       "  </thead>\n",
       "  <tbody>\n",
       "    <tr>\n",
       "      <th>0</th>\n",
       "      <td>2017-09</td>\n",
       "      <td>Alabama</td>\n",
       "      <td>5734.0</td>\n",
       "      <td>6320.0</td>\n",
       "      <td>317</td>\n",
       "      <td>2017</td>\n",
       "      <td>09</td>\n",
       "    </tr>\n",
       "    <tr>\n",
       "      <th>1</th>\n",
       "      <td>2017-09</td>\n",
       "      <td>Alaska</td>\n",
       "      <td>2320.0</td>\n",
       "      <td>2930.0</td>\n",
       "      <td>160</td>\n",
       "      <td>2017</td>\n",
       "      <td>09</td>\n",
       "    </tr>\n",
       "    <tr>\n",
       "      <th>2</th>\n",
       "      <td>2017-09</td>\n",
       "      <td>Arizona</td>\n",
       "      <td>11063.0</td>\n",
       "      <td>7946.0</td>\n",
       "      <td>631</td>\n",
       "      <td>2017</td>\n",
       "      <td>09</td>\n",
       "    </tr>\n",
       "  </tbody>\n",
       "</table>\n",
       "</div>"
      ],
      "text/plain": [
       "    period    state  handgun  long_gun  multiple  year month\n",
       "0  2017-09  Alabama   5734.0    6320.0       317  2017    09\n",
       "1  2017-09   Alaska   2320.0    2930.0       160  2017    09\n",
       "2  2017-09  Arizona  11063.0    7946.0       631  2017    09"
      ]
     },
     "execution_count": 20,
     "metadata": {},
     "output_type": "execute_result"
    }
   ],
   "source": [
    "# rename 'month' to 'period' and add split columns for 'year' and 'month'\n",
    "gdf_buy = gdf_buy.rename(columns={'month':'period'})\n",
    "gdf_buy['year']=gdf_buy.period.apply(lambda x: x.split(\"-\")[0])\n",
    "gdf_buy['month']=gdf_buy.period.apply(lambda x: x.split(\"-\")[1])\n",
    "gdf_buy.head(3)"
   ]
  },
  {
   "cell_type": "code",
   "execution_count": 21,
   "metadata": {},
   "outputs": [
    {
     "name": "stdout",
     "output_type": "stream",
     "text": [
      "Check null values\n",
      "period       0\n",
      "state        0\n",
      "handgun     20\n",
      "long_gun    19\n",
      "multiple     0\n",
      "year         0\n",
      "month        0\n",
      "dtype: int64\n"
     ]
    }
   ],
   "source": [
    "# check Null values in DF\n",
    "print('Check null values')\n",
    "print(gdf_buy.isnull().sum())"
   ]
  },
  {
   "cell_type": "markdown",
   "metadata": {},
   "source": [
    "**Short conclusion for  data content:**\n",
    "- 'handgun' and 'long_gun' values needs to change from float to int type\n",
    "- there are NULL values, to be filled by mean values for specific 'year' and specific 'state'"
   ]
  },
  {
   "cell_type": "code",
   "execution_count": 22,
   "metadata": {},
   "outputs": [],
   "source": [
    "# take indexes witn NULL values to define years\n",
    "idx = gdf_buy.handgun.isnull()\n",
    "gdf_buy_null = gdf_buy.loc[idx,['state','year']]"
   ]
  },
  {
   "cell_type": "code",
   "execution_count": 23,
   "metadata": {},
   "outputs": [
    {
     "name": "stdout",
     "output_type": "stream",
     "text": [
      "['Virgin Islands' 'Mariana Islands']\n",
      "['2005' '2004' '2003' '1999' '1998']\n"
     ]
    }
   ],
   "source": [
    "# select state and year values with NULL\n",
    "state_null = gdf_buy_null.state.unique()\n",
    "print(state_null)\n",
    "year_nul = gdf_buy_null.year.unique()\n",
    "print(year_nul)"
   ]
  },
  {
   "cell_type": "markdown",
   "metadata": {},
   "source": [
    "In cycle select indexes for state and year with NULL values, calculate mean values at specific year and state. Replace NULL's by mean values and update main DataFrame"
   ]
  },
  {
   "cell_type": "code",
   "execution_count": 24,
   "metadata": {},
   "outputs": [
    {
     "name": "stderr",
     "output_type": "stream",
     "text": [
      "/opt/conda/lib/python3.6/site-packages/pandas/core/generic.py:6288: SettingWithCopyWarning: \n",
      "A value is trying to be set on a copy of a slice from a DataFrame\n",
      "\n",
      "See the caveats in the documentation: http://pandas.pydata.org/pandas-docs/stable/user_guide/indexing.html#returning-a-view-versus-a-copy\n",
      "  self._update_inplace(new_data)\n"
     ]
    }
   ],
   "source": [
    "# calculate mean value for year and state\n",
    "for st in state_null:\n",
    "    for yr in year_nul:\n",
    "        #filter by state and year to calculate mean\n",
    "        gdf_st_yr = gdf_buy.query('state == @st and year == @yr')\n",
    "        mn_val = round(gdf_st_yr.mean())\n",
    "        \n",
    "        #replace NaN by mean value for each state each year\n",
    "        gdf_st_yr.handgun.fillna( mn_val[0], inplace = True) \n",
    "        gdf_st_yr.long_gun.fillna(mn_val[1], inplace = True) \n",
    "        gdf_st_yr.multiple.fillna(mn_val[2], inplace = True) \n",
    "        \n",
    "        #update main data frame by indexes\n",
    "        gdf_buy.loc[gdf_st_yr.index,:] = gdf_st_yr      "
   ]
  },
  {
   "cell_type": "code",
   "execution_count": 25,
   "metadata": {},
   "outputs": [
    {
     "name": "stdout",
     "output_type": "stream",
     "text": [
      "Check null values\n",
      "period      0\n",
      "state       0\n",
      "handgun     0\n",
      "long_gun    0\n",
      "multiple    0\n",
      "year        0\n",
      "month       0\n",
      "dtype: int64\n"
     ]
    }
   ],
   "source": [
    "# check NULL values in DF\n",
    "print('Check null values')\n",
    "print(gdf_buy.isnull().sum())"
   ]
  },
  {
   "cell_type": "markdown",
   "metadata": {},
   "source": [
    "**Note: to get valid values for gun sales analysys will use Jurgen Brauer method** \n",
    "- each long gun and handgun check counted as 1.1 sales\n",
    "- each multiple-gun check was counted as 2 sales"
   ]
  },
  {
   "cell_type": "code",
   "execution_count": 26,
   "metadata": {},
   "outputs": [
    {
     "data": {
      "text/html": [
       "<div>\n",
       "<style scoped>\n",
       "    .dataframe tbody tr th:only-of-type {\n",
       "        vertical-align: middle;\n",
       "    }\n",
       "\n",
       "    .dataframe tbody tr th {\n",
       "        vertical-align: top;\n",
       "    }\n",
       "\n",
       "    .dataframe thead th {\n",
       "        text-align: right;\n",
       "    }\n",
       "</style>\n",
       "<table border=\"1\" class=\"dataframe\">\n",
       "  <thead>\n",
       "    <tr style=\"text-align: right;\">\n",
       "      <th></th>\n",
       "      <th>period</th>\n",
       "      <th>state</th>\n",
       "      <th>handgun</th>\n",
       "      <th>long_gun</th>\n",
       "      <th>multiple</th>\n",
       "      <th>year</th>\n",
       "      <th>month</th>\n",
       "    </tr>\n",
       "  </thead>\n",
       "  <tbody>\n",
       "    <tr>\n",
       "      <th>0</th>\n",
       "      <td>2017-09</td>\n",
       "      <td>Alabama</td>\n",
       "      <td>6307.0</td>\n",
       "      <td>6952.0</td>\n",
       "      <td>634</td>\n",
       "      <td>2017</td>\n",
       "      <td>09</td>\n",
       "    </tr>\n",
       "    <tr>\n",
       "      <th>1</th>\n",
       "      <td>2017-09</td>\n",
       "      <td>Alaska</td>\n",
       "      <td>2552.0</td>\n",
       "      <td>3223.0</td>\n",
       "      <td>320</td>\n",
       "      <td>2017</td>\n",
       "      <td>09</td>\n",
       "    </tr>\n",
       "    <tr>\n",
       "      <th>2</th>\n",
       "      <td>2017-09</td>\n",
       "      <td>Arizona</td>\n",
       "      <td>12169.0</td>\n",
       "      <td>8741.0</td>\n",
       "      <td>1262</td>\n",
       "      <td>2017</td>\n",
       "      <td>09</td>\n",
       "    </tr>\n",
       "  </tbody>\n",
       "</table>\n",
       "</div>"
      ],
      "text/plain": [
       "    period    state  handgun  long_gun  multiple  year month\n",
       "0  2017-09  Alabama   6307.0    6952.0       634  2017    09\n",
       "1  2017-09   Alaska   2552.0    3223.0       320  2017    09\n",
       "2  2017-09  Arizona  12169.0    8741.0      1262  2017    09"
      ]
     },
     "execution_count": 26,
     "metadata": {},
     "output_type": "execute_result"
    }
   ],
   "source": [
    "# define and apply multipliers for each check\n",
    "mpl = [1.1, 1.1, 2]\n",
    "\n",
    "num = 0\n",
    "#update selected columns\n",
    "for col in gdf_buy.columns[2:5]:\n",
    "    gdf_buy[col] = round(gdf_buy[col] * mpl[num])\n",
    "    num = num + 1\n",
    "\n",
    "gdf_buy.head(3)    "
   ]
  },
  {
   "cell_type": "markdown",
   "metadata": {},
   "source": [
    "Convert types from str to numeric"
   ]
  },
  {
   "cell_type": "code",
   "execution_count": 27,
   "metadata": {},
   "outputs": [],
   "source": [
    "# convert types from float to int\n",
    "gdf_buy.handgun = gdf_buy.handgun.astype(int)\n",
    "gdf_buy.long_gun = gdf_buy.long_gun.astype(int)\n",
    "gdf_buy.year = gdf_buy.year.astype(int)\n",
    "gdf_buy.month = gdf_buy.month.astype(int)"
   ]
  },
  {
   "cell_type": "code",
   "execution_count": 28,
   "metadata": {},
   "outputs": [
    {
     "name": "stdout",
     "output_type": "stream",
     "text": [
      "(12485, 7)\n"
     ]
    },
    {
     "data": {
      "text/plain": [
       "period      object\n",
       "state       object\n",
       "handgun      int64\n",
       "long_gun     int64\n",
       "multiple     int64\n",
       "year         int64\n",
       "month        int64\n",
       "dtype: object"
      ]
     },
     "execution_count": 28,
     "metadata": {},
     "output_type": "execute_result"
    }
   ],
   "source": [
    "#check shape and data types for final table\n",
    "print(gdf_buy.shape)\n",
    "gdf_buy.dtypes"
   ]
  },
  {
   "cell_type": "markdown",
   "metadata": {},
   "source": [
    "Checking communality in years and State names"
   ]
  },
  {
   "cell_type": "code",
   "execution_count": 29,
   "metadata": {},
   "outputs": [
    {
     "name": "stdout",
     "output_type": "stream",
     "text": [
      "Years\n",
      "[2017 2016 2015 2014 2013 2012 2011 2010 2009 2008 2007 2006 2005 2004\n",
      " 2003 2002 2001 2000 1999 1998]\n",
      "States from gun data\n",
      "(55,)\n",
      "['Alabama' 'Alaska' 'Arizona' 'Arkansas' 'California' 'Colorado'\n",
      " 'Connecticut' 'Delaware' 'District of Columbia' 'Florida' 'Georgia'\n",
      " 'Guam' 'Hawaii' 'Idaho' 'Illinois' 'Indiana' 'Iowa' 'Kansas' 'Kentucky'\n",
      " 'Louisiana' 'Maine' 'Mariana Islands' 'Maryland' 'Massachusetts'\n",
      " 'Michigan' 'Minnesota' 'Mississippi' 'Missouri' 'Montana' 'Nebraska'\n",
      " 'Nevada' 'New Hampshire' 'New Jersey' 'New Mexico' 'New York'\n",
      " 'North Carolina' 'North Dakota' 'Ohio' 'Oklahoma' 'Oregon' 'Pennsylvania'\n",
      " 'Puerto Rico' 'Rhode Island' 'South Carolina' 'South Dakota' 'Tennessee'\n",
      " 'Texas' 'Utah' 'Vermont' 'Virgin Islands' 'Virginia' 'Washington'\n",
      " 'West Virginia' 'Wisconsin' 'Wyoming']\n",
      "States from census data\n",
      "(50,)\n",
      "['Alabama' 'Alaska' 'Arizona' 'Arkansas' 'California' 'Colorado'\n",
      " 'Connecticut' 'Delaware' 'Florida' 'Georgia' 'Hawaii' 'Idaho' 'Illinois'\n",
      " 'Indiana' 'Iowa' 'Kansas' 'Kentucky' 'Louisiana' 'Maine' 'Maryland'\n",
      " 'Massachusetts' 'Michigan' 'Minnesota' 'Mississippi' 'Missouri' 'Montana'\n",
      " 'Nebraska' 'Nevada' 'New Hampshire' 'New Jersey' 'New Mexico' 'New York'\n",
      " 'North Carolina' 'North Dakota' 'Ohio' 'Oklahoma' 'Oregon' 'Pennsylvania'\n",
      " 'Rhode Island' 'South Carolina' 'South Dakota' 'Tennessee' 'Texas' 'Utah'\n",
      " 'Vermont' 'Virginia' 'Washington' 'West Virginia' 'Wisconsin' 'Wyoming']\n"
     ]
    }
   ],
   "source": [
    "#check values for years and states (to compare with census data)\n",
    "print('Years')\n",
    "print(gdf_buy.year.unique())\n",
    "\n",
    "print ('States from gun data')\n",
    "state_gdf = gdf_buy.state.unique()\n",
    "print(state_gdf.shape)\n",
    "print(state_gdf)\n",
    "print ('States from census data')\n",
    "state_cdf_ppltn = cdf_ppltn.state.unique()\n",
    "print(state_cdf_ppltn.shape)\n",
    "print(state_cdf_ppltn)\n"
   ]
  },
  {
   "cell_type": "markdown",
   "metadata": {},
   "source": [
    "**Short conclusion for data content:**\n",
    "    - for 'year' both statistics 2010 and 2016 are available \n",
    "    - for 'state' in census data 50 states are available\n",
    "    - for 'state' in gun data 55 states are available\n",
    "    not common states should be dropped from gun data"
   ]
  },
  {
   "cell_type": "code",
   "execution_count": 30,
   "metadata": {},
   "outputs": [],
   "source": [
    "# drop lines in gun DF with states not included in census DF\n",
    "state_to_drop = ['District of Columbia', 'Mariana Islands', 'Virgin Islands', 'Guam', 'Puerto Rico']\n",
    "idx = gdf_buy.query('state in @state_to_drop').index\n",
    "gdf_buy.drop(index=idx, inplace=True)\n",
    "state_gdf = gdf_buy.state.unique()"
   ]
  },
  {
   "cell_type": "markdown",
   "metadata": {},
   "source": [
    "**Obs!!!** \n",
    "States 'Virgin Islands' and 'Mariana Islands' which were cleaned from NULL values finily were droped\n",
    "Actions for NULL values cleaning would be skipped above."
   ]
  },
  {
   "cell_type": "code",
   "execution_count": 31,
   "metadata": {},
   "outputs": [
    {
     "data": {
      "text/plain": [
       "50"
      ]
     },
     "execution_count": 31,
     "metadata": {},
     "output_type": "execute_result"
    }
   ],
   "source": [
    "# check commonality in staes names\n",
    "(state_gdf == state_cdf_ppltn).sum()"
   ]
  },
  {
   "cell_type": "code",
   "execution_count": 32,
   "metadata": {},
   "outputs": [],
   "source": [
    "# save clean data in file 'gun_data_clean.csv'\n",
    "gdf_buy.to_csv('gun_data_clean.csv', index=False)"
   ]
  },
  {
   "cell_type": "markdown",
   "metadata": {},
   "source": [
    "### 2.5. Conclusion \n",
    "After initial data analysys and data cleaning 2 data frames were prepared and saved as \"clean\" files.\n",
    "Analysys will be done based on statistics data: population and gun sales for each state"
   ]
  },
  {
   "cell_type": "markdown",
   "metadata": {},
   "source": [
    "*Note: added 2 extra section to load already clean data sets, to start exploaration skipping cleaning*"
   ]
  },
  {
   "cell_type": "code",
   "execution_count": 33,
   "metadata": {},
   "outputs": [
    {
     "name": "stdout",
     "output_type": "stream",
     "text": [
      "Data frame \"cdf_ppltn\" exist.\n"
     ]
    }
   ],
   "source": [
    "#check if dataframe 'cdf_ppltn' was loaded before\n",
    "if 'cdf_ppltn' not in globals():\n",
    "    # if start without cleaning - load census data clean \n",
    "    cdf_ppltn = pd.read_csv('census_data_clean.csv')\n",
    "    print(cdf_ppltn.head(3))\n",
    "else:\n",
    "    print('Data frame \"cdf_ppltn\" exist.')"
   ]
  },
  {
   "cell_type": "code",
   "execution_count": 34,
   "metadata": {},
   "outputs": [
    {
     "name": "stdout",
     "output_type": "stream",
     "text": [
      "Data frame \"gdf_buy\" exist.\n"
     ]
    }
   ],
   "source": [
    "#check if dataframe 'gdf_buy' was loaded before\n",
    "if 'gdf_buy' not in globals():\n",
    "    # if start without cleaning - load census data clean \n",
    "    gdf_buy = pd.read_csv('gun_data_clean.csv')\n",
    "    print(gdf_buy.head(3))\n",
    "else:\n",
    "    print('Data frame \"gdf_buy\" exist.') "
   ]
  },
  {
   "cell_type": "markdown",
   "metadata": {},
   "source": [
    "<a id='eda'></a>\n",
    "## 3. Exploratory Data Analysis\n",
    "\n",
    "### Question 1: what is over all staistics about gun sales capita at different states in 2010 and 2016?"
   ]
  },
  {
   "cell_type": "markdown",
   "metadata": {},
   "source": [
    "**Select neded data for specific year year. To not to repeat several times - define steps as function 'select_year_data'**"
   ]
  },
  {
   "cell_type": "markdown",
   "metadata": {},
   "source": [
    "To perform analysys function creates join tables with census and gun data fro 2010\n",
    "- include gun sales statistics\n",
    "- include population statistics\n",
    "- include population per sq.ml. statistics\n",
    "- calculate amount of guns per 1000 men\n",
    "- calculate % of state population from total country population\n",
    "- calculate % of state gun sales from total country gun sales"
   ]
  },
  {
   "cell_type": "code",
   "execution_count": 35,
   "metadata": {},
   "outputs": [],
   "source": [
    "def select_year_data (gdf_loc, cdf_loc, year, ppsm = False, prnt_res = False):\n",
    "    # select yearly statistics for gun sales per state in 'year'\n",
    "    gdf_buy_y = gdf_loc.query('year == @year')\n",
    "    gdf_buy_y['total'] = gdf_buy_y.handgun + gdf_buy_y.long_gun + gdf_buy_y.multiple\n",
    "    gdf_buy_tot_st = gdf_buy_y.groupby('state').total.sum()\n",
    "    if prnt_res:\n",
    "        print('Gun data per state \\n', gdf_buy_tot_st.head(3))\n",
    "        print(\" \")\n",
    "\n",
    "    # select total adulte population per state and % from total in 2010\n",
    "    #if ppsm = True then incluse info for population per sq.m.\n",
    "    if ppsm:\n",
    "        cdf_ppltn_tot_st = cdf_loc.groupby('state')['adlt_ppltn_' + year[-2:],'adlt_ppsm_' + year[-2:]].sum()\n",
    "        colmn = ['total_guns', 'total_pop_ad', 'total_ppsm']\n",
    "    else:\n",
    "        cdf_ppltn_tot_st = cdf_loc.groupby('state')['adlt_ppltn_' + year[-2:]].sum()\n",
    "        \n",
    "        colmn = ['total_guns', 'total_pop_ad']\n",
    "    \n",
    "    if prnt_res:\n",
    "        print('Population data per state \\n', cdf_ppltn_tot_st.head(3))\n",
    "    \n",
    "    # create commom data frame with gun sales yearly statistics and adulte population for 2010\n",
    "    df_cmn = pd.merge(gdf_buy_tot_st, cdf_ppltn_tot_st, on='state')\n",
    "    df_cmn.columns = colmn\n",
    "\n",
    "    # calculate % value from total\n",
    "    gdf_buy_tot    = gdf_buy_tot_st.sum()\n",
    "    adlt_ppltn_tot = cdf_loc.adlt_ppltn_10.sum()\n",
    "    df_cmn['gun_per_thousand'] = df_cmn.total_guns  /df_cmn.total_pop_ad*1000\n",
    "    df_cmn['prcnt_tot_gun']    = df_cmn.total_guns  /gdf_buy_tot\n",
    "    df_cmn['prcnt_tot_pop_ad'] = df_cmn.total_pop_ad/adlt_ppltn_tot\n",
    "    \n",
    "    if prnt_res:\n",
    "        print('\\nFinal table\\n', df_cmn.head(3))\n",
    "    \n",
    "    return df_cmn"
   ]
  },
  {
   "cell_type": "markdown",
   "metadata": {},
   "source": [
    "Select neded data for 2016 year and perform analysys with census and gun data for 2016 via function"
   ]
  },
  {
   "cell_type": "code",
   "execution_count": 36,
   "metadata": {},
   "outputs": [
    {
     "name": "stderr",
     "output_type": "stream",
     "text": [
      "/opt/conda/lib/python3.6/site-packages/ipykernel_launcher.py:4: SettingWithCopyWarning: \n",
      "A value is trying to be set on a copy of a slice from a DataFrame.\n",
      "Try using .loc[row_indexer,col_indexer] = value instead\n",
      "\n",
      "See the caveats in the documentation: http://pandas.pydata.org/pandas-docs/stable/user_guide/indexing.html#returning-a-view-versus-a-copy\n",
      "  after removing the cwd from sys.path.\n"
     ]
    },
    {
     "data": {
      "text/html": [
       "<div>\n",
       "<style scoped>\n",
       "    .dataframe tbody tr th:only-of-type {\n",
       "        vertical-align: middle;\n",
       "    }\n",
       "\n",
       "    .dataframe tbody tr th {\n",
       "        vertical-align: top;\n",
       "    }\n",
       "\n",
       "    .dataframe thead th {\n",
       "        text-align: right;\n",
       "    }\n",
       "</style>\n",
       "<table border=\"1\" class=\"dataframe\">\n",
       "  <thead>\n",
       "    <tr style=\"text-align: right;\">\n",
       "      <th></th>\n",
       "      <th>total_guns</th>\n",
       "      <th>total_pop_ad</th>\n",
       "      <th>total_ppsm</th>\n",
       "      <th>gun_per_thousand</th>\n",
       "      <th>prcnt_tot_gun</th>\n",
       "      <th>prcnt_tot_pop_ad</th>\n",
       "    </tr>\n",
       "    <tr>\n",
       "      <th>state</th>\n",
       "      <th></th>\n",
       "      <th></th>\n",
       "      <th></th>\n",
       "      <th></th>\n",
       "      <th></th>\n",
       "      <th></th>\n",
       "    </tr>\n",
       "  </thead>\n",
       "  <tbody>\n",
       "    <tr>\n",
       "      <th>Alabama</th>\n",
       "      <td>289760</td>\n",
       "      <td>3710698</td>\n",
       "      <td>72.0</td>\n",
       "      <td>78.087734</td>\n",
       "      <td>0.029801</td>\n",
       "      <td>0.015157</td>\n",
       "    </tr>\n",
       "    <tr>\n",
       "      <th>Alaska</th>\n",
       "      <td>67825</td>\n",
       "      <td>546034</td>\n",
       "      <td>1.0</td>\n",
       "      <td>124.213877</td>\n",
       "      <td>0.006976</td>\n",
       "      <td>0.002230</td>\n",
       "    </tr>\n",
       "    <tr>\n",
       "      <th>Arizona</th>\n",
       "      <td>181586</td>\n",
       "      <td>5163648</td>\n",
       "      <td>42.0</td>\n",
       "      <td>35.166224</td>\n",
       "      <td>0.018676</td>\n",
       "      <td>0.021092</td>\n",
       "    </tr>\n",
       "  </tbody>\n",
       "</table>\n",
       "</div>"
      ],
      "text/plain": [
       "         total_guns  total_pop_ad  total_ppsm  gun_per_thousand  \\\n",
       "state                                                             \n",
       "Alabama      289760       3710698        72.0         78.087734   \n",
       "Alaska        67825        546034         1.0        124.213877   \n",
       "Arizona      181586       5163648        42.0         35.166224   \n",
       "\n",
       "         prcnt_tot_gun  prcnt_tot_pop_ad  \n",
       "state                                     \n",
       "Alabama       0.029801          0.015157  \n",
       "Alaska        0.006976          0.002230  \n",
       "Arizona       0.018676          0.021092  "
      ]
     },
     "execution_count": 36,
     "metadata": {},
     "output_type": "execute_result"
    }
   ],
   "source": [
    "# select yearly statistics for gun sales per state in 2010\n",
    "df_cmn_10 = select_year_data (gdf_buy, cdf_ppltn, '2010', ppsm=True)\n",
    "df_cmn_10.head(3)"
   ]
  },
  {
   "cell_type": "markdown",
   "metadata": {},
   "source": [
    "### Show information about gun sales capita in 2010"
   ]
  },
  {
   "cell_type": "markdown",
   "metadata": {},
   "source": [
    "**Create a function 'show_stat' to show statistic info for gun sales**"
   ]
  },
  {
   "cell_type": "code",
   "execution_count": 37,
   "metadata": {},
   "outputs": [],
   "source": [
    "def show_stat(df_cmn_loc):\n",
    "    df_cmn_loc.sort_values('gun_per_thousand', inplace=True)\n",
    "    print('States with lowest gun sales per thousand')\n",
    "    print(df_cmn_loc.gun_per_thousand.head(5))\n",
    "    print('\\nStates with highest gun sales per thousand')\n",
    "    print(df_cmn_loc.gun_per_thousand.tail(5))"
   ]
  },
  {
   "cell_type": "code",
   "execution_count": 38,
   "metadata": {},
   "outputs": [
    {
     "name": "stdout",
     "output_type": "stream",
     "text": [
      "States with lowest gun sales per thousand\n",
      "state\n",
      "Hawaii            0.000000\n",
      "New Jersey        8.237171\n",
      "Massachusetts    11.809046\n",
      "New York         14.987723\n",
      "Iowa             18.938999\n",
      "Name: gun_per_thousand, dtype: float64\n",
      "\n",
      "States with highest gun sales per thousand\n",
      "state\n",
      "Wyoming           92.860145\n",
      "West Virginia     97.188488\n",
      "South Dakota     101.319166\n",
      "Montana          105.125727\n",
      "Alaska           124.213877\n",
      "Name: gun_per_thousand, dtype: float64\n"
     ]
    }
   ],
   "source": [
    "#define states with highest and lowes gun sales\n",
    "show_stat(df_cmn_10)"
   ]
  },
  {
   "cell_type": "markdown",
   "metadata": {},
   "source": [
    "**Short conclusions:**\n",
    "- for Hawaii zero value could be due to absence information in guns checks or low level of gun sales\n",
    "- guns capita differ from min to max approximatelly 10 times"
   ]
  },
  {
   "cell_type": "markdown",
   "metadata": {},
   "source": [
    "Define function 'print_descr' to print labels and titles for graphs"
   ]
  },
  {
   "cell_type": "code",
   "execution_count": 39,
   "metadata": {},
   "outputs": [],
   "source": [
    "def print_descr (title='', xlabel='', ylabel='', legend=''):\n",
    "    plt.title(title)\n",
    "    plt.xlabel(xlabel)\n",
    "    plt.ylabel(ylabel)\n",
    "    if legend == '':\n",
    "        plt.legend()\n",
    "    else:\n",
    "        plt.legend(legend)"
   ]
  },
  {
   "cell_type": "code",
   "execution_count": 40,
   "metadata": {},
   "outputs": [
    {
     "name": "stdout",
     "output_type": "stream",
     "text": [
      "Median value guns per thousand =  39.71577681879422\n"
     ]
    },
    {
     "data": {
      "image/png": "[encoded data removed]",
      "text/plain": [
       "<matplotlib.figure.Figure at 0x7fc9459ca208>"
      ]
     },
     "metadata": {
      "needs_background": "light"
     },
     "output_type": "display_data"
    }
   ],
   "source": [
    "# check type of spread gun sales per thousand and find median\n",
    "df_cmn_10.gun_per_thousand.plot(kind = 'hist')\n",
    "print_descr('Distribution of gun sales capita 2010', \n",
    "            'Gun sales capita (per thousand)')\n",
    "print('Median value guns per thousand = ',\n",
    "      df_cmn_10.total_guns.sum()/df_cmn_10.total_pop_ad.sum()*1000)"
   ]
  },
  {
   "cell_type": "markdown",
   "metadata": {},
   "source": [
    "**Short conclusions:**\n",
    "- guns capita looks not like Gaussian distribution skewed to rigth \n",
    "- median gun sales approximatelly 40 guns per thousand men"
   ]
  },
  {
   "cell_type": "markdown",
   "metadata": {},
   "source": [
    "Select neded data for 2016 year and perform analysys with census and gun data fro 2016 in same way"
   ]
  },
  {
   "cell_type": "code",
   "execution_count": 41,
   "metadata": {},
   "outputs": [
    {
     "name": "stderr",
     "output_type": "stream",
     "text": [
      "/opt/conda/lib/python3.6/site-packages/ipykernel_launcher.py:4: SettingWithCopyWarning: \n",
      "A value is trying to be set on a copy of a slice from a DataFrame.\n",
      "Try using .loc[row_indexer,col_indexer] = value instead\n",
      "\n",
      "See the caveats in the documentation: http://pandas.pydata.org/pandas-docs/stable/user_guide/indexing.html#returning-a-view-versus-a-copy\n",
      "  after removing the cwd from sys.path.\n"
     ]
    },
    {
     "data": {
      "text/html": [
       "<div>\n",
       "<style scoped>\n",
       "    .dataframe tbody tr th:only-of-type {\n",
       "        vertical-align: middle;\n",
       "    }\n",
       "\n",
       "    .dataframe tbody tr th {\n",
       "        vertical-align: top;\n",
       "    }\n",
       "\n",
       "    .dataframe thead th {\n",
       "        text-align: right;\n",
       "    }\n",
       "</style>\n",
       "<table border=\"1\" class=\"dataframe\">\n",
       "  <thead>\n",
       "    <tr style=\"text-align: right;\">\n",
       "      <th></th>\n",
       "      <th>total_guns</th>\n",
       "      <th>total_pop_ad</th>\n",
       "      <th>gun_per_thousand</th>\n",
       "      <th>prcnt_tot_gun</th>\n",
       "      <th>prcnt_tot_pop_ad</th>\n",
       "    </tr>\n",
       "    <tr>\n",
       "      <th>state</th>\n",
       "      <th></th>\n",
       "      <th></th>\n",
       "      <th></th>\n",
       "      <th></th>\n",
       "      <th></th>\n",
       "    </tr>\n",
       "  </thead>\n",
       "  <tbody>\n",
       "    <tr>\n",
       "      <th>Alabama</th>\n",
       "      <td>315685</td>\n",
       "      <td>3699821</td>\n",
       "      <td>85.324398</td>\n",
       "      <td>0.019760</td>\n",
       "      <td>0.015112</td>\n",
       "    </tr>\n",
       "    <tr>\n",
       "      <th>Alaska</th>\n",
       "      <td>86451</td>\n",
       "      <td>531266</td>\n",
       "      <td>162.726393</td>\n",
       "      <td>0.005411</td>\n",
       "      <td>0.002170</td>\n",
       "    </tr>\n",
       "    <tr>\n",
       "      <th>Arizona</th>\n",
       "      <td>319165</td>\n",
       "      <td>4890110</td>\n",
       "      <td>65.267448</td>\n",
       "      <td>0.019978</td>\n",
       "      <td>0.019974</td>\n",
       "    </tr>\n",
       "  </tbody>\n",
       "</table>\n",
       "</div>"
      ],
      "text/plain": [
       "         total_guns  total_pop_ad  gun_per_thousand  prcnt_tot_gun  \\\n",
       "state                                                                \n",
       "Alabama      315685       3699821         85.324398       0.019760   \n",
       "Alaska        86451        531266        162.726393       0.005411   \n",
       "Arizona      319165       4890110         65.267448       0.019978   \n",
       "\n",
       "         prcnt_tot_pop_ad  \n",
       "state                      \n",
       "Alabama          0.015112  \n",
       "Alaska           0.002170  \n",
       "Arizona          0.019974  "
      ]
     },
     "execution_count": 41,
     "metadata": {},
     "output_type": "execute_result"
    }
   ],
   "source": [
    "# select yearly statistics for gun sales per state in 2010\n",
    "df_cmn_16 = select_year_data (gdf_buy, cdf_ppltn, '2016')\n",
    "df_cmn_16.head(3)"
   ]
  },
  {
   "cell_type": "markdown",
   "metadata": {},
   "source": [
    "### Show information about gun sales capita in 2016"
   ]
  },
  {
   "cell_type": "code",
   "execution_count": 42,
   "metadata": {},
   "outputs": [
    {
     "name": "stdout",
     "output_type": "stream",
     "text": [
      "States with lowest gun sales per thousand\n",
      "state\n",
      "Hawaii         0.000000\n",
      "Iowa          17.966588\n",
      "New Jersey    19.193031\n",
      "Nebraska      22.715838\n",
      "New York      24.163863\n",
      "Name: gun_per_thousand, dtype: float64\n",
      "\n",
      "States with highest gun sales per thousand\n",
      "state\n",
      "Wyoming          129.751205\n",
      "West Virginia    136.524332\n",
      "Montana          141.102360\n",
      "South Dakota     161.287695\n",
      "Alaska           162.726393\n",
      "Name: gun_per_thousand, dtype: float64\n"
     ]
    }
   ],
   "source": [
    "#define states with highest and lowes gun sales\n",
    "show_stat(df_cmn_16)"
   ]
  },
  {
   "cell_type": "markdown",
   "metadata": {},
   "source": [
    "**Short conclusions:**\n",
    "\n",
    "- repeating for Hawaii zero value requires more investigation of reason\n",
    "- guns capita differ from min to max approximatelly 10 times (same ratio)"
   ]
  },
  {
   "cell_type": "code",
   "execution_count": 43,
   "metadata": {},
   "outputs": [
    {
     "name": "stdout",
     "output_type": "stream",
     "text": [
      "Median value guns per thousand =  67.14772098997754\n"
     ]
    },
    {
     "data": {
      "image/png": "[encoded data removed]",
      "text/plain": [
       "<matplotlib.figure.Figure at 0x7fc93d7a74e0>"
      ]
     },
     "metadata": {
      "needs_background": "light"
     },
     "output_type": "display_data"
    }
   ],
   "source": [
    "# check type of spread gun sales per thousand\n",
    "df_cmn_16.gun_per_thousand.plot(kind = 'hist')\n",
    "print_descr('Distribution of gun sales capita 2016', \n",
    "            'Gun sales capita (per thousand)')\n",
    "print('Median value guns per thousand = ',\n",
    "      df_cmn_16.total_guns.sum()/df_cmn_16.total_pop_ad.sum()*1000)"
   ]
  },
  {
   "cell_type": "markdown",
   "metadata": {},
   "source": [
    "**Short conclusions:**\n",
    "- guns capita looks not like Gaussian distribution skewed to left (shows increasing) \n",
    "- median gun sales approximatelly 67 guns per thousand men (shows increasing ~50%) "
   ]
  },
  {
   "cell_type": "markdown",
   "metadata": {},
   "source": [
    "### Question 2: is any correlation between population parameters and gun sales?"
   ]
  },
  {
   "cell_type": "markdown",
   "metadata": {},
   "source": [
    "**If in states with higher people dencity more gun sales?** (year 2010)"
   ]
  },
  {
   "cell_type": "code",
   "execution_count": 44,
   "metadata": {},
   "outputs": [
    {
     "name": "stdout",
     "output_type": "stream",
     "text": [
      "Correlation coeff = -0.5547374285672397\n"
     ]
    },
    {
     "data": {
      "image/png": "[encoded data removed]",
      "text/plain": [
       "<matplotlib.figure.Figure at 0x7fc93d7580b8>"
      ]
     },
     "metadata": {
      "needs_background": "light"
     },
     "output_type": "display_data"
    }
   ],
   "source": [
    "#check correlation between people dencity and % of gun sales in 2010\n",
    "df_cmn_10.plot(x='total_ppsm', y='gun_per_thousand', kind='scatter')\n",
    "print_descr('Gun sales capita vs Population per sq. ml. 2010',\n",
    "            'Population per sq. ml.',\n",
    "            'Gun sales capita (per thousand)')\n",
    "\n",
    "print('Correlation coeff =',\n",
    "df_cmn_10.total_ppsm.corr(df_cmn_10.gun_per_thousand))"
   ]
  },
  {
   "cell_type": "markdown",
   "metadata": {},
   "source": [
    "**Short conclusions:**\n",
    "- there is no strong correlation (coeff = -0,55) but more gun sales in states with low people dencity (like villages or small towns)\n",
    "\n",
    "*Note: unfortunatelly there is no statistics for 2016 to proof conclusion and see trend*"
   ]
  },
  {
   "cell_type": "markdown",
   "metadata": {},
   "source": [
    "**If in states with higher people % from total population more % of gun sales?** (year 2010)"
   ]
  },
  {
   "cell_type": "code",
   "execution_count": 45,
   "metadata": {},
   "outputs": [
    {
     "name": "stdout",
     "output_type": "stream",
     "text": [
      "Correlation coeff = 0.7798836841942666\n"
     ]
    },
    {
     "data": {
      "image/png": "[encoded data removed]",
      "text/plain": [
       "<matplotlib.figure.Figure at 0x7fc93d6a6438>"
      ]
     },
     "metadata": {
      "needs_background": "light"
     },
     "output_type": "display_data"
    }
   ],
   "source": [
    "#check correlation between % of people and % of gun sales in 2010\n",
    "df_cmn_10.plot(x='prcnt_tot_pop_ad', y='prcnt_tot_gun', kind='scatter')\n",
    "print_descr('Gun sales vs Population 2010',\n",
    "            'Population %',\n",
    "            'Gun sales %')\n",
    "\n",
    "print('Correlation coeff =',\n",
    "df_cmn_10.prcnt_tot_pop_ad.corr(df_cmn_10.prcnt_tot_gun))"
   ]
  },
  {
   "cell_type": "markdown",
   "metadata": {},
   "source": [
    "**Short conclusions:**\n",
    "- there is strong correlation (coeff = 0,78): more gun sales in states with higher amount of people"
   ]
  },
  {
   "cell_type": "markdown",
   "metadata": {},
   "source": [
    "**If in states with higher people % from total population more % of gun sales?** (year 2016 and trend)"
   ]
  },
  {
   "cell_type": "code",
   "execution_count": 46,
   "metadata": {},
   "outputs": [
    {
     "name": "stdout",
     "output_type": "stream",
     "text": [
      "Correlation coeff = 0.8507461121023653\n"
     ]
    },
    {
     "data": {
      "image/png": "[encoded data removed]",
      "text/plain": [
       "<matplotlib.figure.Figure at 0x7fc93d6e7c88>"
      ]
     },
     "metadata": {
      "needs_background": "light"
     },
     "output_type": "display_data"
    }
   ],
   "source": [
    "#check correlation between % of people and % of gun sales in 2016\n",
    "df_cmn_16.plot(x='prcnt_tot_pop_ad', y='prcnt_tot_gun', kind='scatter')\n",
    "print_descr('Gun sales vs Population 2016',\n",
    "            'Population %',\n",
    "            'Gun sales %')\n",
    "\n",
    "print('Correlation coeff =',\n",
    "df_cmn_16.prcnt_tot_pop_ad.corr(df_cmn_16.prcnt_tot_gun))"
   ]
  },
  {
   "cell_type": "markdown",
   "metadata": {},
   "source": [
    "**Short conclusions:**\n",
    "- more stronger correlation (coeff = 0,85): more gun sales in states with higher amount of people\n",
    "- no specific states with low amount of people and big gun sales"
   ]
  },
  {
   "cell_type": "markdown",
   "metadata": {},
   "source": [
    "### Question 3: what is genral trend for gun sales per year?"
   ]
  },
  {
   "cell_type": "markdown",
   "metadata": {},
   "source": [
    "**What are gun sales and population trend?** "
   ]
  },
  {
   "cell_type": "code",
   "execution_count": 47,
   "metadata": {},
   "outputs": [],
   "source": [
    "# select total quantity of gun sales from 2006 till 2016\n",
    "gdf_buy_yerly = gdf_buy.groupby('year').sum()\n",
    "idx = gdf_buy_yerly.index\n",
    "idx = idx[:-12]\n",
    "gdf_buy_yerly.drop(index=idx, inplace=True)\n",
    "idx = gdf_buy_yerly.index\n",
    "idx = idx[-1]\n",
    "gdf_buy_yerly.drop(index=idx, inplace=True)\n",
    "\n",
    "gdf_buy_yerly['total'] = gdf_buy_yerly.handgun + gdf_buy_yerly.long_gun + gdf_buy_yerly.multiple\n",
    "#gdf_buy_yerly.head(3)"
   ]
  },
  {
   "cell_type": "code",
   "execution_count": 48,
   "metadata": {},
   "outputs": [
    {
     "data": {
      "image/png": "[encoded data removed]",
      "text/plain": [
       "<matplotlib.figure.Figure at 0x7fc93d61f630>"
      ]
     },
     "metadata": {
      "needs_background": "light"
     },
     "output_type": "display_data"
    }
   ],
   "source": [
    "gdf_buy_yerly.plot(y='total', kind='bar', color='r', alpha=.7)\n",
    "print_descr('Gun sales trend',\n",
    "            'Years',\n",
    "            'Gun sales')"
   ]
  },
  {
   "cell_type": "code",
   "execution_count": 49,
   "metadata": {},
   "outputs": [],
   "source": [
    "# select population from 2006 till 2016\n",
    "cdf_ppltn.columns\n",
    "cdf_ppltn_yaerly = cdf_ppltn.sum()['adlt_ppltn_10':'adlt_ppltn_16']\n",
    "#cdf_ppltn_yaerly"
   ]
  },
  {
   "cell_type": "code",
   "execution_count": 51,
   "metadata": {},
   "outputs": [
    {
     "data": {
      "image/png": "[encoded data removed]",
      "text/plain": [
       "<matplotlib.figure.Figure at 0x7fc93d60ec18>"
      ]
     },
     "metadata": {
      "needs_background": "light"
     },
     "output_type": "display_data"
    }
   ],
   "source": [
    "cdf_ppltn_yaerly.plot(kind='bar', color='b', alpha=.7, title ='Population change')\n",
    "labels = ['2010', '2016']\n",
    "plt.xticks([0,1], labels)\n",
    "print_descr('Population trend', \n",
    "            'Years',\n",
    "            'Population',\n",
    "            'total')"
   ]
  },
  {
   "cell_type": "markdown",
   "metadata": {},
   "source": [
    "**Short conclusions:**\n",
    "- it's shown big increase of total gun sales versus stable (very low decrease) of total population\n",
    "\n",
    "*Note: good to have more years population data*"
   ]
  },
  {
   "cell_type": "markdown",
   "metadata": {},
   "source": [
    "**Is any correlation between gun sales and population changes on a state levels?**"
   ]
  },
  {
   "cell_type": "code",
   "execution_count": 52,
   "metadata": {},
   "outputs": [],
   "source": [
    "#create a difference data set\n",
    "df_10 = df_cmn_10.loc[:,'total_guns' : 'gun_per_thousand']\n",
    "df_10.columns = df_10.columns+'_10'\n",
    "df_16 = df_cmn_16.loc[:,'total_guns' : 'gun_per_thousand']\n",
    "df_16.columns = df_16.columns+'_16'\n",
    "df = pd.merge(df_10, df_16, on='state' )\n",
    "#df.head(3)"
   ]
  },
  {
   "cell_type": "code",
   "execution_count": 53,
   "metadata": {},
   "outputs": [],
   "source": [
    "#dfine chages between 2016 and 2010\n",
    "df['total_guns_dif'] = (df.total_guns_16 - df.total_guns_10)/(df.total_guns_10+0.001)\n",
    "df['total_pop_ad_dif'] = (df.total_pop_ad_16 - df.total_pop_ad_10)/(df.total_pop_ad_10+0.001)\n",
    "df['gun_per_thousand_dif'] = (df.gun_per_thousand_16 - df.gun_per_thousand_10)/(df.gun_per_thousand_10+0.001)\n",
    "#df.columns"
   ]
  },
  {
   "cell_type": "code",
   "execution_count": 54,
   "metadata": {},
   "outputs": [],
   "source": [
    "# sort by increasing of population grow %\n",
    "df.sort_values('total_pop_ad_dif', inplace=True)"
   ]
  },
  {
   "cell_type": "code",
   "execution_count": 55,
   "metadata": {},
   "outputs": [],
   "source": [
    "#plot hist of population and gun sales chages\n",
    "ind = np.arange(len(df.total_pop_ad_16))  # the x locations for the groups\n",
    "# the width of the bars\n",
    "width = 0.3       \n",
    "#background color\n",
    "plt.rcParams['axes.facecolor'] = 'white'"
   ]
  },
  {
   "cell_type": "code",
   "execution_count": 56,
   "metadata": {},
   "outputs": [
    {
     "data": {
      "image/png": "[encoded data removed]",
      "text/plain": [
       "<matplotlib.figure.Figure at 0x7fc93d4c4470>"
      ]
     },
     "metadata": {
      "needs_background": "light"
     },
     "output_type": "display_data"
    }
   ],
   "source": [
    "# plot bars for each state changes\n",
    "plt.clf\n",
    "fig, ax = plt.subplots(figsize =(80,50))\n",
    "pop_ad_bars = plt.bar(ind,         df.total_pop_ad_dif,     width, color='b', alpha=.7, label='Population change')\n",
    "guns_bars   = plt.bar(ind + width, df.gun_per_thousand_dif, width, color='r', alpha=.7, label='Gun sales change')\n",
    "\n",
    "locations = ind + width / 2  # xtick locations\n",
    "labels = df.index\n",
    "plt.xticks(locations, labels)\n",
    "\n",
    "# title and labels\n",
    "print_descr('Chages between population and gun sales from 2010 to 2016',\n",
    "            'States',\n",
    "            'Chages level')"
   ]
  },
  {
   "cell_type": "code",
   "execution_count": 57,
   "metadata": {},
   "outputs": [
    {
     "name": "stdout",
     "output_type": "stream",
     "text": [
      "Correlation coeff = 0.222417395129436\n"
     ]
    },
    {
     "data": {
      "image/png": "[encoded data removed]",
      "text/plain": [
       "<matplotlib.figure.Figure at 0x7fc93d83a518>"
      ]
     },
     "metadata": {
      "needs_background": "light"
     },
     "output_type": "display_data"
    }
   ],
   "source": [
    "#check correlation between changes in population and  gun sales from 2010 to 2016\n",
    "df.plot(x='total_pop_ad_dif', y='gun_per_thousand_dif', kind='scatter')\n",
    "print_descr(' % of change of Gun sales vs Population from 2010 to 2016',\n",
    "            'Population change %',\n",
    "            'Gun sales change %')\n",
    "\n",
    "print('Correlation coeff =',\n",
    "df.total_pop_ad_dif.corr(df.total_guns_dif))"
   ]
  },
  {
   "cell_type": "markdown",
   "metadata": {},
   "source": [
    "**Short conclusions:**\n",
    "- we see very low correlation (coeff = 0.22) between gun sales and population change on a state levels\n"
   ]
  },
  {
   "cell_type": "markdown",
   "metadata": {},
   "source": [
    "<a id='conclusions'></a>\n",
    "## 4. Conclusions\n",
    "\n",
    "1) Investigation showed gun sales capita form 18 to 167 per thousand people at different states in 2016. \n",
    "2) In staes with less people dencity (people per square mile) level of gun sales higher\n",
    "3) Staes with higher amount of people have higher level of gun sales.\n",
    "4) Over all gun sales increased year by year with out correlation to poulation chage.\n",
    "\n",
    "Recomendation for additional investigation:\n",
    " - include another years (after 2016) statistics to make investigation more upto date.\n",
    " - try to investigate level of gun sales depends on ethnics or race difference % at state\n",
    " - clarify reasons of zero gun sales at Hawaii\n",
    " - investigate potential impact of 'redemption', 'rentals', 'returned', 'private_sale' checks on existed results.\n",
    " - limitation: 5 states statistic was exluded due to missing inforamtion in census data\n",
    "\n",
    "\n",
    "## 5. Submitting your Project\n",
    "\n",
    "Html format was created via script. After project was submited for inspection"
   ]
  },
  {
   "cell_type": "code",
   "execution_count": 58,
   "metadata": {},
   "outputs": [
    {
     "data": {
      "text/plain": [
       "0"
      ]
     },
     "execution_count": 58,
     "metadata": {},
     "output_type": "execute_result"
    }
   ],
   "source": [
    "from subprocess import call\n",
    "call(['python', '-m', 'nbconvert', 'Investigate_a_Dataset.ipynb'])"
   ]
  },
  {
   "cell_type": "code",
   "execution_count": null,
   "metadata": {},
   "outputs": [],
   "source": []
  }
 ],
 "metadata": {
  "kernelspec": {
   "display_name": "Python 3",
   "language": "python",
   "name": "python3"
  },
  "language_info": {
   "codemirror_mode": {
    "name": "ipython",
    "version": 3
   },
   "file_extension": ".py",
   "mimetype": "text/x-python",
   "name": "python",
   "nbconvert_exporter": "python",
   "pygments_lexer": "ipython3",
   "version": "3.6.3"
  }
 },
 "nbformat": 4,
 "nbformat_minor": 2
}
